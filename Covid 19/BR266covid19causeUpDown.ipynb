{
 "cells": [
  {
   "cell_type": "markdown",
   "id": "721b69b8",
   "metadata": {},
   "source": [
    "Do vaccination numbers affect total number of cases?\n",
    "Does GDP or poverty levels affect total number of cases?\n",
    "Does age play a roll?\n",
    "Smokers?\n",
    "Any other factors? "
   ]
  },
  {
   "cell_type": "code",
   "execution_count": 77,
   "id": "7ba96202",
   "metadata": {},
   "outputs": [],
   "source": [
    "# import libraries\n",
    "\n",
    "import pandas as pd\n",
    "from matplotlib import pyplot as plt\n",
    "import seaborn as sns\n",
    "import numpy as np"
   ]
  },
  {
   "cell_type": "code",
   "execution_count": 78,
   "id": "b358fd6c",
   "metadata": {},
   "outputs": [],
   "source": [
    "# read the csv file\n",
    "\n",
    "data = pd.read_csv('covid-data.csv')"
   ]
  },
  {
   "cell_type": "code",
   "execution_count": 79,
   "id": "c5a15d45",
   "metadata": {},
   "outputs": [
    {
     "data": {
      "text/plain": [
       "121034"
      ]
     },
     "execution_count": 79,
     "metadata": {},
     "output_type": "execute_result"
    }
   ],
   "source": [
    "data.shape[0]"
   ]
  },
  {
   "cell_type": "code",
   "execution_count": 80,
   "id": "8088072c",
   "metadata": {},
   "outputs": [
    {
     "data": {
      "text/plain": [
       "65"
      ]
     },
     "execution_count": 80,
     "metadata": {},
     "output_type": "execute_result"
    }
   ],
   "source": [
    "data.shape[1]"
   ]
  },
  {
   "cell_type": "code",
   "execution_count": 81,
   "id": "48c1bc73",
   "metadata": {},
   "outputs": [
    {
     "data": {
      "text/html": [
       "<div>\n",
       "<style scoped>\n",
       "    .dataframe tbody tr th:only-of-type {\n",
       "        vertical-align: middle;\n",
       "    }\n",
       "\n",
       "    .dataframe tbody tr th {\n",
       "        vertical-align: top;\n",
       "    }\n",
       "\n",
       "    .dataframe thead th {\n",
       "        text-align: right;\n",
       "    }\n",
       "</style>\n",
       "<table border=\"1\" class=\"dataframe\">\n",
       "  <thead>\n",
       "    <tr style=\"text-align: right;\">\n",
       "      <th></th>\n",
       "      <th>iso_code</th>\n",
       "      <th>continent</th>\n",
       "      <th>location</th>\n",
       "      <th>date</th>\n",
       "      <th>total_cases</th>\n",
       "      <th>new_cases</th>\n",
       "      <th>new_cases_smoothed</th>\n",
       "      <th>total_deaths</th>\n",
       "      <th>new_deaths</th>\n",
       "      <th>new_deaths_smoothed</th>\n",
       "      <th>...</th>\n",
       "      <th>female_smokers</th>\n",
       "      <th>male_smokers</th>\n",
       "      <th>handwashing_facilities</th>\n",
       "      <th>hospital_beds_per_thousand</th>\n",
       "      <th>life_expectancy</th>\n",
       "      <th>human_development_index</th>\n",
       "      <th>excess_mortality_cumulative_absolute</th>\n",
       "      <th>excess_mortality_cumulative</th>\n",
       "      <th>excess_mortality</th>\n",
       "      <th>excess_mortality_cumulative_per_million</th>\n",
       "    </tr>\n",
       "  </thead>\n",
       "  <tbody>\n",
       "    <tr>\n",
       "      <th>121029</th>\n",
       "      <td>ZWE</td>\n",
       "      <td>Africa</td>\n",
       "      <td>Zimbabwe</td>\n",
       "      <td>2021-09-29</td>\n",
       "      <td>130485.0</td>\n",
       "      <td>213.0</td>\n",
       "      <td>240.143</td>\n",
       "      <td>4616.0</td>\n",
       "      <td>1.0</td>\n",
       "      <td>3.429</td>\n",
       "      <td>...</td>\n",
       "      <td>1.6</td>\n",
       "      <td>30.7</td>\n",
       "      <td>36.791</td>\n",
       "      <td>1.7</td>\n",
       "      <td>61.49</td>\n",
       "      <td>0.571</td>\n",
       "      <td>NaN</td>\n",
       "      <td>NaN</td>\n",
       "      <td>NaN</td>\n",
       "      <td>NaN</td>\n",
       "    </tr>\n",
       "    <tr>\n",
       "      <th>121030</th>\n",
       "      <td>ZWE</td>\n",
       "      <td>Africa</td>\n",
       "      <td>Zimbabwe</td>\n",
       "      <td>2021-09-30</td>\n",
       "      <td>130820.0</td>\n",
       "      <td>335.0</td>\n",
       "      <td>240.857</td>\n",
       "      <td>4623.0</td>\n",
       "      <td>7.0</td>\n",
       "      <td>3.286</td>\n",
       "      <td>...</td>\n",
       "      <td>1.6</td>\n",
       "      <td>30.7</td>\n",
       "      <td>36.791</td>\n",
       "      <td>1.7</td>\n",
       "      <td>61.49</td>\n",
       "      <td>0.571</td>\n",
       "      <td>NaN</td>\n",
       "      <td>NaN</td>\n",
       "      <td>NaN</td>\n",
       "      <td>NaN</td>\n",
       "    </tr>\n",
       "    <tr>\n",
       "      <th>121031</th>\n",
       "      <td>ZWE</td>\n",
       "      <td>Africa</td>\n",
       "      <td>Zimbabwe</td>\n",
       "      <td>2021-10-01</td>\n",
       "      <td>131028.0</td>\n",
       "      <td>208.0</td>\n",
       "      <td>270.571</td>\n",
       "      <td>4624.0</td>\n",
       "      <td>1.0</td>\n",
       "      <td>3.429</td>\n",
       "      <td>...</td>\n",
       "      <td>1.6</td>\n",
       "      <td>30.7</td>\n",
       "      <td>36.791</td>\n",
       "      <td>1.7</td>\n",
       "      <td>61.49</td>\n",
       "      <td>0.571</td>\n",
       "      <td>NaN</td>\n",
       "      <td>NaN</td>\n",
       "      <td>NaN</td>\n",
       "      <td>NaN</td>\n",
       "    </tr>\n",
       "    <tr>\n",
       "      <th>121032</th>\n",
       "      <td>ZWE</td>\n",
       "      <td>Africa</td>\n",
       "      <td>Zimbabwe</td>\n",
       "      <td>2021-10-02</td>\n",
       "      <td>131094.0</td>\n",
       "      <td>66.0</td>\n",
       "      <td>227.000</td>\n",
       "      <td>4625.0</td>\n",
       "      <td>1.0</td>\n",
       "      <td>3.143</td>\n",
       "      <td>...</td>\n",
       "      <td>1.6</td>\n",
       "      <td>30.7</td>\n",
       "      <td>36.791</td>\n",
       "      <td>1.7</td>\n",
       "      <td>61.49</td>\n",
       "      <td>0.571</td>\n",
       "      <td>NaN</td>\n",
       "      <td>NaN</td>\n",
       "      <td>NaN</td>\n",
       "      <td>NaN</td>\n",
       "    </tr>\n",
       "    <tr>\n",
       "      <th>121033</th>\n",
       "      <td>ZWE</td>\n",
       "      <td>Africa</td>\n",
       "      <td>Zimbabwe</td>\n",
       "      <td>2021-10-03</td>\n",
       "      <td>131129.0</td>\n",
       "      <td>35.0</td>\n",
       "      <td>214.857</td>\n",
       "      <td>4627.0</td>\n",
       "      <td>2.0</td>\n",
       "      <td>3.286</td>\n",
       "      <td>...</td>\n",
       "      <td>1.6</td>\n",
       "      <td>30.7</td>\n",
       "      <td>36.791</td>\n",
       "      <td>1.7</td>\n",
       "      <td>61.49</td>\n",
       "      <td>0.571</td>\n",
       "      <td>NaN</td>\n",
       "      <td>NaN</td>\n",
       "      <td>NaN</td>\n",
       "      <td>NaN</td>\n",
       "    </tr>\n",
       "  </tbody>\n",
       "</table>\n",
       "<p>5 rows × 65 columns</p>\n",
       "</div>"
      ],
      "text/plain": [
       "       iso_code continent  location        date  total_cases  new_cases  \\\n",
       "121029      ZWE    Africa  Zimbabwe  2021-09-29     130485.0      213.0   \n",
       "121030      ZWE    Africa  Zimbabwe  2021-09-30     130820.0      335.0   \n",
       "121031      ZWE    Africa  Zimbabwe  2021-10-01     131028.0      208.0   \n",
       "121032      ZWE    Africa  Zimbabwe  2021-10-02     131094.0       66.0   \n",
       "121033      ZWE    Africa  Zimbabwe  2021-10-03     131129.0       35.0   \n",
       "\n",
       "        new_cases_smoothed  total_deaths  new_deaths  new_deaths_smoothed  \\\n",
       "121029             240.143        4616.0         1.0                3.429   \n",
       "121030             240.857        4623.0         7.0                3.286   \n",
       "121031             270.571        4624.0         1.0                3.429   \n",
       "121032             227.000        4625.0         1.0                3.143   \n",
       "121033             214.857        4627.0         2.0                3.286   \n",
       "\n",
       "        ...  female_smokers  male_smokers  handwashing_facilities  \\\n",
       "121029  ...             1.6          30.7                  36.791   \n",
       "121030  ...             1.6          30.7                  36.791   \n",
       "121031  ...             1.6          30.7                  36.791   \n",
       "121032  ...             1.6          30.7                  36.791   \n",
       "121033  ...             1.6          30.7                  36.791   \n",
       "\n",
       "        hospital_beds_per_thousand  life_expectancy  human_development_index  \\\n",
       "121029                         1.7            61.49                    0.571   \n",
       "121030                         1.7            61.49                    0.571   \n",
       "121031                         1.7            61.49                    0.571   \n",
       "121032                         1.7            61.49                    0.571   \n",
       "121033                         1.7            61.49                    0.571   \n",
       "\n",
       "        excess_mortality_cumulative_absolute  excess_mortality_cumulative  \\\n",
       "121029                                   NaN                          NaN   \n",
       "121030                                   NaN                          NaN   \n",
       "121031                                   NaN                          NaN   \n",
       "121032                                   NaN                          NaN   \n",
       "121033                                   NaN                          NaN   \n",
       "\n",
       "        excess_mortality  excess_mortality_cumulative_per_million  \n",
       "121029               NaN                                      NaN  \n",
       "121030               NaN                                      NaN  \n",
       "121031               NaN                                      NaN  \n",
       "121032               NaN                                      NaN  \n",
       "121033               NaN                                      NaN  \n",
       "\n",
       "[5 rows x 65 columns]"
      ]
     },
     "execution_count": 81,
     "metadata": {},
     "output_type": "execute_result"
    }
   ],
   "source": [
    "data.tail()"
   ]
  },
  {
   "cell_type": "code",
   "execution_count": 82,
   "id": "14034274",
   "metadata": {},
   "outputs": [
    {
     "data": {
      "text/plain": [
       "Index(['iso_code', 'continent', 'location', 'date', 'total_cases', 'new_cases',\n",
       "       'new_cases_smoothed', 'total_deaths', 'new_deaths',\n",
       "       'new_deaths_smoothed', 'total_cases_per_million',\n",
       "       'new_cases_per_million', 'new_cases_smoothed_per_million',\n",
       "       'total_deaths_per_million', 'new_deaths_per_million',\n",
       "       'new_deaths_smoothed_per_million', 'reproduction_rate', 'icu_patients',\n",
       "       'icu_patients_per_million', 'hosp_patients',\n",
       "       'hosp_patients_per_million', 'weekly_icu_admissions',\n",
       "       'weekly_icu_admissions_per_million', 'weekly_hosp_admissions',\n",
       "       'weekly_hosp_admissions_per_million', 'new_tests', 'total_tests',\n",
       "       'total_tests_per_thousand', 'new_tests_per_thousand',\n",
       "       'new_tests_smoothed', 'new_tests_smoothed_per_thousand',\n",
       "       'positive_rate', 'tests_per_case', 'tests_units', 'total_vaccinations',\n",
       "       'people_vaccinated', 'people_fully_vaccinated', 'total_boosters',\n",
       "       'new_vaccinations', 'new_vaccinations_smoothed',\n",
       "       'total_vaccinations_per_hundred', 'people_vaccinated_per_hundred',\n",
       "       'people_fully_vaccinated_per_hundred', 'total_boosters_per_hundred',\n",
       "       'new_vaccinations_smoothed_per_million', 'stringency_index',\n",
       "       'population', 'population_density', 'median_age', 'aged_65_older',\n",
       "       'aged_70_older', 'gdp_per_capita', 'extreme_poverty',\n",
       "       'cardiovasc_death_rate', 'diabetes_prevalence', 'female_smokers',\n",
       "       'male_smokers', 'handwashing_facilities', 'hospital_beds_per_thousand',\n",
       "       'life_expectancy', 'human_development_index',\n",
       "       'excess_mortality_cumulative_absolute', 'excess_mortality_cumulative',\n",
       "       'excess_mortality', 'excess_mortality_cumulative_per_million'],\n",
       "      dtype='object')"
      ]
     },
     "execution_count": 82,
     "metadata": {},
     "output_type": "execute_result"
    }
   ],
   "source": [
    "# listing column names\n",
    "\n",
    "data.columns"
   ]
  },
  {
   "cell_type": "markdown",
   "id": "022f5645",
   "metadata": {},
   "source": [
    "# Do vaccination numbers affect total number of cases?\n",
    "\n",
    "To focus my analysis I will be working on the continents of Asia and South America.\n",
    "I will begin with Asia."
   ]
  },
  {
   "cell_type": "code",
   "execution_count": 83,
   "id": "2c9d1bf4",
   "metadata": {},
   "outputs": [
    {
     "data": {
      "text/plain": [
       "array(['Asia', nan, 'Europe', 'Africa', 'North America', 'South America',\n",
       "       'Oceania'], dtype=object)"
      ]
     },
     "execution_count": 83,
     "metadata": {},
     "output_type": "execute_result"
    }
   ],
   "source": [
    "# finding the continent naming convetion\n",
    "\n",
    "data.continent.unique()"
   ]
  },
  {
   "cell_type": "code",
   "execution_count": 84,
   "id": "123e4824",
   "metadata": {},
   "outputs": [],
   "source": [
    "# filter data \n",
    "    \n",
    "data1 = data[['continent', 'location', 'total_cases','total_vaccinations', 'population']]"
   ]
  },
  {
   "cell_type": "code",
   "execution_count": 85,
   "id": "8bdacfea",
   "metadata": {},
   "outputs": [],
   "source": [
    "# drop nan values\n",
    "\n",
    "data1 = data1.dropna(axis=0)"
   ]
  },
  {
   "cell_type": "code",
   "execution_count": 86,
   "id": "81dc14f8",
   "metadata": {},
   "outputs": [
    {
     "data": {
      "text/plain": [
       "continent             0\n",
       "location              0\n",
       "total_cases           0\n",
       "total_vaccinations    0\n",
       "population            0\n",
       "dtype: int64"
      ]
     },
     "execution_count": 86,
     "metadata": {},
     "output_type": "execute_result"
    }
   ],
   "source": [
    "# verify drop\n",
    "\n",
    "data1.isnull().sum()"
   ]
  },
  {
   "cell_type": "code",
   "execution_count": 87,
   "id": "eaab4437",
   "metadata": {},
   "outputs": [
    {
     "data": {
      "text/html": [
       "<div>\n",
       "<style scoped>\n",
       "    .dataframe tbody tr th:only-of-type {\n",
       "        vertical-align: middle;\n",
       "    }\n",
       "\n",
       "    .dataframe tbody tr th {\n",
       "        vertical-align: top;\n",
       "    }\n",
       "\n",
       "    .dataframe thead th {\n",
       "        text-align: right;\n",
       "    }\n",
       "</style>\n",
       "<table border=\"1\" class=\"dataframe\">\n",
       "  <thead>\n",
       "    <tr style=\"text-align: right;\">\n",
       "      <th></th>\n",
       "      <th>continent</th>\n",
       "      <th>location</th>\n",
       "      <th>total_cases</th>\n",
       "      <th>total_vaccinations</th>\n",
       "      <th>population</th>\n",
       "    </tr>\n",
       "  </thead>\n",
       "  <tbody>\n",
       "    <tr>\n",
       "      <th>364</th>\n",
       "      <td>Asia</td>\n",
       "      <td>Afghanistan</td>\n",
       "      <td>55617.0</td>\n",
       "      <td>0.0</td>\n",
       "      <td>39835428.0</td>\n",
       "    </tr>\n",
       "    <tr>\n",
       "      <th>370</th>\n",
       "      <td>Asia</td>\n",
       "      <td>Afghanistan</td>\n",
       "      <td>55714.0</td>\n",
       "      <td>8200.0</td>\n",
       "      <td>39835428.0</td>\n",
       "    </tr>\n",
       "    <tr>\n",
       "      <th>386</th>\n",
       "      <td>Asia</td>\n",
       "      <td>Afghanistan</td>\n",
       "      <td>55995.0</td>\n",
       "      <td>54000.0</td>\n",
       "      <td>39835428.0</td>\n",
       "    </tr>\n",
       "    <tr>\n",
       "      <th>408</th>\n",
       "      <td>Asia</td>\n",
       "      <td>Afghanistan</td>\n",
       "      <td>56873.0</td>\n",
       "      <td>120000.0</td>\n",
       "      <td>39835428.0</td>\n",
       "    </tr>\n",
       "    <tr>\n",
       "      <th>423</th>\n",
       "      <td>Asia</td>\n",
       "      <td>Afghanistan</td>\n",
       "      <td>58312.0</td>\n",
       "      <td>240000.0</td>\n",
       "      <td>39835428.0</td>\n",
       "    </tr>\n",
       "  </tbody>\n",
       "</table>\n",
       "</div>"
      ],
      "text/plain": [
       "    continent     location  total_cases  total_vaccinations  population\n",
       "364      Asia  Afghanistan      55617.0                 0.0  39835428.0\n",
       "370      Asia  Afghanistan      55714.0              8200.0  39835428.0\n",
       "386      Asia  Afghanistan      55995.0             54000.0  39835428.0\n",
       "408      Asia  Afghanistan      56873.0            120000.0  39835428.0\n",
       "423      Asia  Afghanistan      58312.0            240000.0  39835428.0"
      ]
     },
     "execution_count": 87,
     "metadata": {},
     "output_type": "execute_result"
    }
   ],
   "source": [
    "data1.head()"
   ]
  },
  {
   "cell_type": "code",
   "execution_count": 88,
   "id": "3b603897",
   "metadata": {},
   "outputs": [],
   "source": [
    "# getting data for Asia\n",
    "\n",
    "asiaData=data1[data1['continent'] == 'Asia']"
   ]
  },
  {
   "cell_type": "code",
   "execution_count": 89,
   "id": "56e5bf0d",
   "metadata": {},
   "outputs": [
    {
     "data": {
      "text/html": [
       "<div>\n",
       "<style scoped>\n",
       "    .dataframe tbody tr th:only-of-type {\n",
       "        vertical-align: middle;\n",
       "    }\n",
       "\n",
       "    .dataframe tbody tr th {\n",
       "        vertical-align: top;\n",
       "    }\n",
       "\n",
       "    .dataframe thead th {\n",
       "        text-align: right;\n",
       "    }\n",
       "</style>\n",
       "<table border=\"1\" class=\"dataframe\">\n",
       "  <thead>\n",
       "    <tr style=\"text-align: right;\">\n",
       "      <th></th>\n",
       "      <th>continent</th>\n",
       "      <th>location</th>\n",
       "      <th>total_cases</th>\n",
       "      <th>total_vaccinations</th>\n",
       "      <th>population</th>\n",
       "    </tr>\n",
       "  </thead>\n",
       "  <tbody>\n",
       "    <tr>\n",
       "      <th>364</th>\n",
       "      <td>Asia</td>\n",
       "      <td>Afghanistan</td>\n",
       "      <td>55617.0</td>\n",
       "      <td>0.0</td>\n",
       "      <td>39835428.0</td>\n",
       "    </tr>\n",
       "    <tr>\n",
       "      <th>370</th>\n",
       "      <td>Asia</td>\n",
       "      <td>Afghanistan</td>\n",
       "      <td>55714.0</td>\n",
       "      <td>8200.0</td>\n",
       "      <td>39835428.0</td>\n",
       "    </tr>\n",
       "    <tr>\n",
       "      <th>386</th>\n",
       "      <td>Asia</td>\n",
       "      <td>Afghanistan</td>\n",
       "      <td>55995.0</td>\n",
       "      <td>54000.0</td>\n",
       "      <td>39835428.0</td>\n",
       "    </tr>\n",
       "    <tr>\n",
       "      <th>408</th>\n",
       "      <td>Asia</td>\n",
       "      <td>Afghanistan</td>\n",
       "      <td>56873.0</td>\n",
       "      <td>120000.0</td>\n",
       "      <td>39835428.0</td>\n",
       "    </tr>\n",
       "    <tr>\n",
       "      <th>423</th>\n",
       "      <td>Asia</td>\n",
       "      <td>Afghanistan</td>\n",
       "      <td>58312.0</td>\n",
       "      <td>240000.0</td>\n",
       "      <td>39835428.0</td>\n",
       "    </tr>\n",
       "  </tbody>\n",
       "</table>\n",
       "</div>"
      ],
      "text/plain": [
       "    continent     location  total_cases  total_vaccinations  population\n",
       "364      Asia  Afghanistan      55617.0                 0.0  39835428.0\n",
       "370      Asia  Afghanistan      55714.0              8200.0  39835428.0\n",
       "386      Asia  Afghanistan      55995.0             54000.0  39835428.0\n",
       "408      Asia  Afghanistan      56873.0            120000.0  39835428.0\n",
       "423      Asia  Afghanistan      58312.0            240000.0  39835428.0"
      ]
     },
     "execution_count": 89,
     "metadata": {},
     "output_type": "execute_result"
    }
   ],
   "source": [
    "asiaData.head()"
   ]
  },
  {
   "cell_type": "code",
   "execution_count": 90,
   "id": "3396a1c7",
   "metadata": {},
   "outputs": [],
   "source": [
    "asiaData_grouped = asiaData.groupby('location').sum()"
   ]
  },
  {
   "cell_type": "code",
   "execution_count": 91,
   "id": "e8c8b96b",
   "metadata": {},
   "outputs": [],
   "source": [
    "# Aggregate asiaData\n",
    "\n",
    "asiaData_agg = asiaData.groupby('location').agg({'total_cases': 'sum', 'total_vaccinations': 'sum', 'population': 'sum'})"
   ]
  },
  {
   "cell_type": "code",
   "execution_count": 92,
   "id": "e637bb28",
   "metadata": {},
   "outputs": [
    {
     "data": {
      "text/html": [
       "<div>\n",
       "<style scoped>\n",
       "    .dataframe tbody tr th:only-of-type {\n",
       "        vertical-align: middle;\n",
       "    }\n",
       "\n",
       "    .dataframe tbody tr th {\n",
       "        vertical-align: top;\n",
       "    }\n",
       "\n",
       "    .dataframe thead th {\n",
       "        text-align: right;\n",
       "    }\n",
       "</style>\n",
       "<table border=\"1\" class=\"dataframe\">\n",
       "  <thead>\n",
       "    <tr style=\"text-align: right;\">\n",
       "      <th></th>\n",
       "      <th>total_cases</th>\n",
       "      <th>total_vaccinations</th>\n",
       "      <th>population</th>\n",
       "    </tr>\n",
       "  </thead>\n",
       "  <tbody>\n",
       "    <tr>\n",
       "      <th>total_cases</th>\n",
       "      <td>1.000000</td>\n",
       "      <td>0.274179</td>\n",
       "      <td>0.738645</td>\n",
       "    </tr>\n",
       "    <tr>\n",
       "      <th>total_vaccinations</th>\n",
       "      <td>0.274179</td>\n",
       "      <td>1.000000</td>\n",
       "      <td>0.837451</td>\n",
       "    </tr>\n",
       "    <tr>\n",
       "      <th>population</th>\n",
       "      <td>0.738645</td>\n",
       "      <td>0.837451</td>\n",
       "      <td>1.000000</td>\n",
       "    </tr>\n",
       "  </tbody>\n",
       "</table>\n",
       "</div>"
      ],
      "text/plain": [
       "                    total_cases  total_vaccinations  population\n",
       "total_cases            1.000000            0.274179    0.738645\n",
       "total_vaccinations     0.274179            1.000000    0.837451\n",
       "population             0.738645            0.837451    1.000000"
      ]
     },
     "execution_count": 92,
     "metadata": {},
     "output_type": "execute_result"
    }
   ],
   "source": [
    "# correlation\n",
    "\n",
    "\n",
    "cmatrixAsia = asiaData_agg.corr()\n",
    "\n",
    "cmatrixAsia"
   ]
  },
  {
   "cell_type": "code",
   "execution_count": 93,
   "id": "093e523e",
   "metadata": {},
   "outputs": [
    {
     "data": {
      "image/png": "[encoded data removed]",
      "text/plain": [
       "<Figure size 800x600 with 2 Axes>"
      ]
     },
     "metadata": {},
     "output_type": "display_data"
    }
   ],
   "source": [
    "# corelation matrix\n",
    "\n",
    "plt.figure(figsize=(8, 6))\n",
    "sns.heatmap(cmatrixAsia, annot=True, cmap='coolwarm', fmt='.2f', linewidths=0.5)\n",
    "plt.title('Asia Correlation Heatmap')\n",
    "plt.show()"
   ]
  },
  {
   "cell_type": "markdown",
   "id": "e57ee713",
   "metadata": {},
   "source": [
    "## South America"
   ]
  },
  {
   "cell_type": "code",
   "execution_count": 94,
   "id": "3e7108bd",
   "metadata": {},
   "outputs": [
    {
     "data": {
      "text/html": [
       "<div>\n",
       "<style scoped>\n",
       "    .dataframe tbody tr th:only-of-type {\n",
       "        vertical-align: middle;\n",
       "    }\n",
       "\n",
       "    .dataframe tbody tr th {\n",
       "        vertical-align: top;\n",
       "    }\n",
       "\n",
       "    .dataframe thead th {\n",
       "        text-align: right;\n",
       "    }\n",
       "</style>\n",
       "<table border=\"1\" class=\"dataframe\">\n",
       "  <thead>\n",
       "    <tr style=\"text-align: right;\">\n",
       "      <th></th>\n",
       "      <th>continent</th>\n",
       "      <th>location</th>\n",
       "      <th>total_cases</th>\n",
       "      <th>total_vaccinations</th>\n",
       "      <th>population</th>\n",
       "    </tr>\n",
       "  </thead>\n",
       "  <tbody>\n",
       "    <tr>\n",
       "      <th>4678</th>\n",
       "      <td>South America</td>\n",
       "      <td>Argentina</td>\n",
       "      <td>1602163.0</td>\n",
       "      <td>700.0</td>\n",
       "      <td>45605823.0</td>\n",
       "    </tr>\n",
       "    <tr>\n",
       "      <th>4680</th>\n",
       "      <td>South America</td>\n",
       "      <td>Argentina</td>\n",
       "      <td>1625514.0</td>\n",
       "      <td>32013.0</td>\n",
       "      <td>45605823.0</td>\n",
       "    </tr>\n",
       "    <tr>\n",
       "      <th>4684</th>\n",
       "      <td>South America</td>\n",
       "      <td>Argentina</td>\n",
       "      <td>1648940.0</td>\n",
       "      <td>39599.0</td>\n",
       "      <td>45605823.0</td>\n",
       "    </tr>\n",
       "    <tr>\n",
       "      <th>4688</th>\n",
       "      <td>South America</td>\n",
       "      <td>Argentina</td>\n",
       "      <td>1703352.0</td>\n",
       "      <td>107542.0</td>\n",
       "      <td>45605823.0</td>\n",
       "    </tr>\n",
       "    <tr>\n",
       "      <th>4693</th>\n",
       "      <td>South America</td>\n",
       "      <td>Argentina</td>\n",
       "      <td>1757429.0</td>\n",
       "      <td>166833.0</td>\n",
       "      <td>45605823.0</td>\n",
       "    </tr>\n",
       "  </tbody>\n",
       "</table>\n",
       "</div>"
      ],
      "text/plain": [
       "          continent   location  total_cases  total_vaccinations  population\n",
       "4678  South America  Argentina    1602163.0               700.0  45605823.0\n",
       "4680  South America  Argentina    1625514.0             32013.0  45605823.0\n",
       "4684  South America  Argentina    1648940.0             39599.0  45605823.0\n",
       "4688  South America  Argentina    1703352.0            107542.0  45605823.0\n",
       "4693  South America  Argentina    1757429.0            166833.0  45605823.0"
      ]
     },
     "execution_count": 94,
     "metadata": {},
     "output_type": "execute_result"
    }
   ],
   "source": [
    "# get data for just South America\n",
    "\n",
    "saData=data1[data1['continent'] == 'South America']\n",
    "saData.head()"
   ]
  },
  {
   "cell_type": "code",
   "execution_count": 95,
   "id": "6e99f2c8",
   "metadata": {},
   "outputs": [],
   "source": [
    "# aggregate SA data\n",
    "\n",
    "saData_agg = saData.groupby('location').agg({'total_cases': 'sum', 'total_vaccinations': 'sum', 'population': 'sum'})"
   ]
  },
  {
   "cell_type": "code",
   "execution_count": 96,
   "id": "4921b2d9",
   "metadata": {},
   "outputs": [
    {
     "data": {
      "text/html": [
       "<div>\n",
       "<style scoped>\n",
       "    .dataframe tbody tr th:only-of-type {\n",
       "        vertical-align: middle;\n",
       "    }\n",
       "\n",
       "    .dataframe tbody tr th {\n",
       "        vertical-align: top;\n",
       "    }\n",
       "\n",
       "    .dataframe thead th {\n",
       "        text-align: right;\n",
       "    }\n",
       "</style>\n",
       "<table border=\"1\" class=\"dataframe\">\n",
       "  <thead>\n",
       "    <tr style=\"text-align: right;\">\n",
       "      <th></th>\n",
       "      <th>total_cases</th>\n",
       "      <th>total_vaccinations</th>\n",
       "      <th>population</th>\n",
       "    </tr>\n",
       "  </thead>\n",
       "  <tbody>\n",
       "    <tr>\n",
       "      <th>total_cases</th>\n",
       "      <td>1.000000</td>\n",
       "      <td>0.984755</td>\n",
       "      <td>0.996982</td>\n",
       "    </tr>\n",
       "    <tr>\n",
       "      <th>total_vaccinations</th>\n",
       "      <td>0.984755</td>\n",
       "      <td>1.000000</td>\n",
       "      <td>0.984352</td>\n",
       "    </tr>\n",
       "    <tr>\n",
       "      <th>population</th>\n",
       "      <td>0.996982</td>\n",
       "      <td>0.984352</td>\n",
       "      <td>1.000000</td>\n",
       "    </tr>\n",
       "  </tbody>\n",
       "</table>\n",
       "</div>"
      ],
      "text/plain": [
       "                    total_cases  total_vaccinations  population\n",
       "total_cases            1.000000            0.984755    0.996982\n",
       "total_vaccinations     0.984755            1.000000    0.984352\n",
       "population             0.996982            0.984352    1.000000"
      ]
     },
     "execution_count": 96,
     "metadata": {},
     "output_type": "execute_result"
    }
   ],
   "source": [
    "# correlation\n",
    "\n",
    "cmatrixSA = saData_agg.corr()\n",
    "\n",
    "cmatrixSA"
   ]
  },
  {
   "cell_type": "code",
   "execution_count": 97,
   "id": "655ec9a1",
   "metadata": {},
   "outputs": [
    {
     "data": {
      "image/png": "[encoded data removed]",
      "text/plain": [
       "<Figure size 800x600 with 2 Axes>"
      ]
     },
     "metadata": {},
     "output_type": "display_data"
    }
   ],
   "source": [
    "# corelation heatmap\n",
    "\n",
    "plt.figure(figsize=(8, 6))\n",
    "sns.heatmap(cmatrixSA, annot=True, cmap='coolwarm', fmt='.2f', linewidths=0.5)\n",
    "plt.title('South America Correlation Heatmap')\n",
    "plt.show()"
   ]
  },
  {
   "cell_type": "markdown",
   "id": "9f692a70",
   "metadata": {},
   "source": [
    "# Correlation for Asia & South America\n",
    "\n",
    "My analsis found that there is not a correlation in Asia,\n",
    "there is a strong correlation in South America."
   ]
  },
  {
   "cell_type": "markdown",
   "id": "467747a9",
   "metadata": {},
   "source": [
    "# Does GDP affect total number of cases?\n",
    "\n",
    "For GDP I focused only on Asia"
   ]
  },
  {
   "cell_type": "code",
   "execution_count": 98,
   "id": "55852839",
   "metadata": {},
   "outputs": [
    {
     "data": {
      "text/html": [
       "<div>\n",
       "<style scoped>\n",
       "    .dataframe tbody tr th:only-of-type {\n",
       "        vertical-align: middle;\n",
       "    }\n",
       "\n",
       "    .dataframe tbody tr th {\n",
       "        vertical-align: top;\n",
       "    }\n",
       "\n",
       "    .dataframe thead th {\n",
       "        text-align: right;\n",
       "    }\n",
       "</style>\n",
       "<table border=\"1\" class=\"dataframe\">\n",
       "  <thead>\n",
       "    <tr style=\"text-align: right;\">\n",
       "      <th></th>\n",
       "      <th>continent</th>\n",
       "      <th>location</th>\n",
       "      <th>total_cases</th>\n",
       "      <th>gdp_per_capita</th>\n",
       "      <th>extreme_poverty</th>\n",
       "    </tr>\n",
       "  </thead>\n",
       "  <tbody>\n",
       "    <tr>\n",
       "      <th>0</th>\n",
       "      <td>Asia</td>\n",
       "      <td>Afghanistan</td>\n",
       "      <td>5.0</td>\n",
       "      <td>1803.987</td>\n",
       "      <td>NaN</td>\n",
       "    </tr>\n",
       "    <tr>\n",
       "      <th>1</th>\n",
       "      <td>Asia</td>\n",
       "      <td>Afghanistan</td>\n",
       "      <td>5.0</td>\n",
       "      <td>1803.987</td>\n",
       "      <td>NaN</td>\n",
       "    </tr>\n",
       "    <tr>\n",
       "      <th>2</th>\n",
       "      <td>Asia</td>\n",
       "      <td>Afghanistan</td>\n",
       "      <td>5.0</td>\n",
       "      <td>1803.987</td>\n",
       "      <td>NaN</td>\n",
       "    </tr>\n",
       "    <tr>\n",
       "      <th>3</th>\n",
       "      <td>Asia</td>\n",
       "      <td>Afghanistan</td>\n",
       "      <td>5.0</td>\n",
       "      <td>1803.987</td>\n",
       "      <td>NaN</td>\n",
       "    </tr>\n",
       "    <tr>\n",
       "      <th>4</th>\n",
       "      <td>Asia</td>\n",
       "      <td>Afghanistan</td>\n",
       "      <td>5.0</td>\n",
       "      <td>1803.987</td>\n",
       "      <td>NaN</td>\n",
       "    </tr>\n",
       "  </tbody>\n",
       "</table>\n",
       "</div>"
      ],
      "text/plain": [
       "  continent     location  total_cases  gdp_per_capita  extreme_poverty\n",
       "0      Asia  Afghanistan          5.0        1803.987              NaN\n",
       "1      Asia  Afghanistan          5.0        1803.987              NaN\n",
       "2      Asia  Afghanistan          5.0        1803.987              NaN\n",
       "3      Asia  Afghanistan          5.0        1803.987              NaN\n",
       "4      Asia  Afghanistan          5.0        1803.987              NaN"
      ]
     },
     "execution_count": 98,
     "metadata": {},
     "output_type": "execute_result"
    }
   ],
   "source": [
    "# Get data \n",
    "\n",
    "data2 = data[['continent', 'location', 'total_cases', 'gdp_per_capita', 'extreme_poverty']]\n",
    "data2.head()"
   ]
  },
  {
   "cell_type": "code",
   "execution_count": 99,
   "id": "fe6c9ff6",
   "metadata": {},
   "outputs": [],
   "source": [
    "asiaGDPData = data2.dropna(axis=0)"
   ]
  },
  {
   "cell_type": "code",
   "execution_count": 100,
   "id": "767cfaab",
   "metadata": {},
   "outputs": [],
   "source": [
    "# Asia data\n",
    "\n",
    "asiaGDPData = asiaGDPData[asiaGDPData['continent'] == 'Asia'].sort_values('continent')"
   ]
  },
  {
   "cell_type": "code",
   "execution_count": 101,
   "id": "70ac47f0",
   "metadata": {},
   "outputs": [
    {
     "data": {
      "text/html": [
       "<div>\n",
       "<style scoped>\n",
       "    .dataframe tbody tr th:only-of-type {\n",
       "        vertical-align: middle;\n",
       "    }\n",
       "\n",
       "    .dataframe tbody tr th {\n",
       "        vertical-align: top;\n",
       "    }\n",
       "\n",
       "    .dataframe thead th {\n",
       "        text-align: right;\n",
       "    }\n",
       "</style>\n",
       "<table border=\"1\" class=\"dataframe\">\n",
       "  <thead>\n",
       "    <tr style=\"text-align: right;\">\n",
       "      <th></th>\n",
       "      <th>location</th>\n",
       "      <th>total_cases</th>\n",
       "      <th>gdp_per_capita</th>\n",
       "      <th>extreme_poverty</th>\n",
       "    </tr>\n",
       "  </thead>\n",
       "  <tbody>\n",
       "    <tr>\n",
       "      <th>4957</th>\n",
       "      <td>Armenia</td>\n",
       "      <td>1.0</td>\n",
       "      <td>8787.580</td>\n",
       "      <td>1.8</td>\n",
       "    </tr>\n",
       "    <tr>\n",
       "      <th>83617</th>\n",
       "      <td>Pakistan</td>\n",
       "      <td>579973.0</td>\n",
       "      <td>5034.708</td>\n",
       "      <td>4.0</td>\n",
       "    </tr>\n",
       "    <tr>\n",
       "      <th>83618</th>\n",
       "      <td>Pakistan</td>\n",
       "      <td>581365.0</td>\n",
       "      <td>5034.708</td>\n",
       "      <td>4.0</td>\n",
       "    </tr>\n",
       "    <tr>\n",
       "      <th>83619</th>\n",
       "      <td>Pakistan</td>\n",
       "      <td>582528.0</td>\n",
       "      <td>5034.708</td>\n",
       "      <td>4.0</td>\n",
       "    </tr>\n",
       "    <tr>\n",
       "      <th>83620</th>\n",
       "      <td>Pakistan</td>\n",
       "      <td>583916.0</td>\n",
       "      <td>5034.708</td>\n",
       "      <td>4.0</td>\n",
       "    </tr>\n",
       "    <tr>\n",
       "      <th>...</th>\n",
       "      <td>...</td>\n",
       "      <td>...</td>\n",
       "      <td>...</td>\n",
       "      <td>...</td>\n",
       "    </tr>\n",
       "    <tr>\n",
       "      <th>54018</th>\n",
       "      <td>Israel</td>\n",
       "      <td>54440.0</td>\n",
       "      <td>33132.320</td>\n",
       "      <td>0.5</td>\n",
       "    </tr>\n",
       "    <tr>\n",
       "      <th>54019</th>\n",
       "      <td>Israel</td>\n",
       "      <td>56484.0</td>\n",
       "      <td>33132.320</td>\n",
       "      <td>0.5</td>\n",
       "    </tr>\n",
       "    <tr>\n",
       "      <th>54020</th>\n",
       "      <td>Israel</td>\n",
       "      <td>58474.0</td>\n",
       "      <td>33132.320</td>\n",
       "      <td>0.5</td>\n",
       "    </tr>\n",
       "    <tr>\n",
       "      <th>66560</th>\n",
       "      <td>Malaysia</td>\n",
       "      <td>10.0</td>\n",
       "      <td>26808.164</td>\n",
       "      <td>0.1</td>\n",
       "    </tr>\n",
       "    <tr>\n",
       "      <th>119905</th>\n",
       "      <td>Yemen</td>\n",
       "      <td>9139.0</td>\n",
       "      <td>1479.147</td>\n",
       "      <td>18.8</td>\n",
       "    </tr>\n",
       "  </tbody>\n",
       "</table>\n",
       "<p>16385 rows × 4 columns</p>\n",
       "</div>"
      ],
      "text/plain": [
       "        location  total_cases  gdp_per_capita  extreme_poverty\n",
       "4957     Armenia          1.0        8787.580              1.8\n",
       "83617   Pakistan     579973.0        5034.708              4.0\n",
       "83618   Pakistan     581365.0        5034.708              4.0\n",
       "83619   Pakistan     582528.0        5034.708              4.0\n",
       "83620   Pakistan     583916.0        5034.708              4.0\n",
       "...          ...          ...             ...              ...\n",
       "54018     Israel      54440.0       33132.320              0.5\n",
       "54019     Israel      56484.0       33132.320              0.5\n",
       "54020     Israel      58474.0       33132.320              0.5\n",
       "66560   Malaysia         10.0       26808.164              0.1\n",
       "119905     Yemen       9139.0        1479.147             18.8\n",
       "\n",
       "[16385 rows x 4 columns]"
      ]
     },
     "execution_count": 101,
     "metadata": {},
     "output_type": "execute_result"
    }
   ],
   "source": [
    "asiagdpHigh = asiaGDPData.drop('continent', axis=1)\n",
    "asiagdpHigh"
   ]
  },
  {
   "cell_type": "code",
   "execution_count": 102,
   "id": "568dca8d",
   "metadata": {},
   "outputs": [
    {
     "data": {
      "text/html": [
       "<div>\n",
       "<style scoped>\n",
       "    .dataframe tbody tr th:only-of-type {\n",
       "        vertical-align: middle;\n",
       "    }\n",
       "\n",
       "    .dataframe tbody tr th {\n",
       "        vertical-align: top;\n",
       "    }\n",
       "\n",
       "    .dataframe thead th {\n",
       "        text-align: right;\n",
       "    }\n",
       "</style>\n",
       "<table border=\"1\" class=\"dataframe\">\n",
       "  <thead>\n",
       "    <tr style=\"text-align: right;\">\n",
       "      <th></th>\n",
       "      <th>total_cases</th>\n",
       "      <th>gdp_per_capita</th>\n",
       "      <th>extreme_poverty</th>\n",
       "    </tr>\n",
       "    <tr>\n",
       "      <th>location</th>\n",
       "      <th></th>\n",
       "      <th></th>\n",
       "      <th></th>\n",
       "    </tr>\n",
       "  </thead>\n",
       "  <tbody>\n",
       "    <tr>\n",
       "      <th>South Korea</th>\n",
       "      <td>319777.0</td>\n",
       "      <td>35938.374</td>\n",
       "      <td>0.2</td>\n",
       "    </tr>\n",
       "    <tr>\n",
       "      <th>Israel</th>\n",
       "      <td>1290129.0</td>\n",
       "      <td>33132.320</td>\n",
       "      <td>0.5</td>\n",
       "    </tr>\n",
       "    <tr>\n",
       "      <th>Malaysia</th>\n",
       "      <td>2277565.0</td>\n",
       "      <td>26808.164</td>\n",
       "      <td>0.1</td>\n",
       "    </tr>\n",
       "    <tr>\n",
       "      <th>Turkey</th>\n",
       "      <td>7208851.0</td>\n",
       "      <td>25129.341</td>\n",
       "      <td>0.2</td>\n",
       "    </tr>\n",
       "    <tr>\n",
       "      <th>Kazakhstan</th>\n",
       "      <td>968975.0</td>\n",
       "      <td>24055.588</td>\n",
       "      <td>0.1</td>\n",
       "    </tr>\n",
       "    <tr>\n",
       "      <th>Iran</th>\n",
       "      <td>5624128.0</td>\n",
       "      <td>19082.620</td>\n",
       "      <td>0.2</td>\n",
       "    </tr>\n",
       "    <tr>\n",
       "      <th>Thailand</th>\n",
       "      <td>1637432.0</td>\n",
       "      <td>16277.671</td>\n",
       "      <td>0.1</td>\n",
       "    </tr>\n",
       "    <tr>\n",
       "      <th>Iraq</th>\n",
       "      <td>2009678.0</td>\n",
       "      <td>15663.986</td>\n",
       "      <td>2.5</td>\n",
       "    </tr>\n",
       "    <tr>\n",
       "      <th>China</th>\n",
       "      <td>96329.0</td>\n",
       "      <td>15308.712</td>\n",
       "      <td>0.7</td>\n",
       "    </tr>\n",
       "    <tr>\n",
       "      <th>Mongolia</th>\n",
       "      <td>312376.0</td>\n",
       "      <td>11840.846</td>\n",
       "      <td>0.5</td>\n",
       "    </tr>\n",
       "  </tbody>\n",
       "</table>\n",
       "</div>"
      ],
      "text/plain": [
       "             total_cases  gdp_per_capita  extreme_poverty\n",
       "location                                                 \n",
       "South Korea     319777.0       35938.374              0.2\n",
       "Israel         1290129.0       33132.320              0.5\n",
       "Malaysia       2277565.0       26808.164              0.1\n",
       "Turkey         7208851.0       25129.341              0.2\n",
       "Kazakhstan      968975.0       24055.588              0.1\n",
       "Iran           5624128.0       19082.620              0.2\n",
       "Thailand       1637432.0       16277.671              0.1\n",
       "Iraq           2009678.0       15663.986              2.5\n",
       "China            96329.0       15308.712              0.7\n",
       "Mongolia        312376.0       11840.846              0.5"
      ]
     },
     "execution_count": 102,
     "metadata": {},
     "output_type": "execute_result"
    }
   ],
   "source": [
    "# Display 10 largest 'gdp_per_capita' grouped by 'location'\n",
    "asiagdpHigh = asiagdpHigh.groupby('location').max().nlargest(10, 'gdp_per_capita')\n",
    "asiagdpHigh"
   ]
  },
  {
   "cell_type": "code",
   "execution_count": 103,
   "id": "6091bca0",
   "metadata": {},
   "outputs": [
    {
     "data": {
      "text/html": [
       "<div>\n",
       "<style scoped>\n",
       "    .dataframe tbody tr th:only-of-type {\n",
       "        vertical-align: middle;\n",
       "    }\n",
       "\n",
       "    .dataframe tbody tr th {\n",
       "        vertical-align: top;\n",
       "    }\n",
       "\n",
       "    .dataframe thead th {\n",
       "        text-align: right;\n",
       "    }\n",
       "</style>\n",
       "<table border=\"1\" class=\"dataframe\">\n",
       "  <thead>\n",
       "    <tr style=\"text-align: right;\">\n",
       "      <th></th>\n",
       "      <th>total_cases</th>\n",
       "      <th>gdp_per_capita</th>\n",
       "      <th>extreme_poverty</th>\n",
       "    </tr>\n",
       "  </thead>\n",
       "  <tbody>\n",
       "    <tr>\n",
       "      <th>total_cases</th>\n",
       "      <td>1.000000</td>\n",
       "      <td>0.028691</td>\n",
       "      <td>-0.132939</td>\n",
       "    </tr>\n",
       "    <tr>\n",
       "      <th>gdp_per_capita</th>\n",
       "      <td>0.028691</td>\n",
       "      <td>1.000000</td>\n",
       "      <td>-0.354536</td>\n",
       "    </tr>\n",
       "    <tr>\n",
       "      <th>extreme_poverty</th>\n",
       "      <td>-0.132939</td>\n",
       "      <td>-0.354536</td>\n",
       "      <td>1.000000</td>\n",
       "    </tr>\n",
       "  </tbody>\n",
       "</table>\n",
       "</div>"
      ],
      "text/plain": [
       "                 total_cases  gdp_per_capita  extreme_poverty\n",
       "total_cases         1.000000        0.028691        -0.132939\n",
       "gdp_per_capita      0.028691        1.000000        -0.354536\n",
       "extreme_poverty    -0.132939       -0.354536         1.000000"
      ]
     },
     "execution_count": 103,
     "metadata": {},
     "output_type": "execute_result"
    }
   ],
   "source": [
    "# correlation for highest GDP\n",
    "\n",
    "asiaGDPDataCorr = asiagdpHigh.corr()\n",
    "asiaGDPDataCorr"
   ]
  },
  {
   "cell_type": "code",
   "execution_count": 104,
   "id": "eb392224",
   "metadata": {},
   "outputs": [
    {
     "data": {
      "image/png": "[encoded data removed]",
      "text/plain": [
       "<Figure size 640x480 with 2 Axes>"
      ]
     },
     "metadata": {},
     "output_type": "display_data"
    }
   ],
   "source": [
    "# corelation heatmap\n",
    "\n",
    "asiagdpHighCorrMatrix= asiaGDPDataCorr.round(2)\n",
    "sns.heatmap(asiagdpHighCorrMatrix, annot=True)\n",
    "plt.show()"
   ]
  },
  {
   "cell_type": "code",
   "execution_count": 105,
   "id": "52bcf01a",
   "metadata": {},
   "outputs": [
    {
     "data": {
      "text/html": [
       "<div>\n",
       "<style scoped>\n",
       "    .dataframe tbody tr th:only-of-type {\n",
       "        vertical-align: middle;\n",
       "    }\n",
       "\n",
       "    .dataframe tbody tr th {\n",
       "        vertical-align: top;\n",
       "    }\n",
       "\n",
       "    .dataframe thead th {\n",
       "        text-align: right;\n",
       "    }\n",
       "</style>\n",
       "<table border=\"1\" class=\"dataframe\">\n",
       "  <thead>\n",
       "    <tr style=\"text-align: right;\">\n",
       "      <th></th>\n",
       "      <th>continent</th>\n",
       "      <th>total_cases</th>\n",
       "      <th>gdp_per_capita</th>\n",
       "      <th>extreme_poverty</th>\n",
       "    </tr>\n",
       "    <tr>\n",
       "      <th>location</th>\n",
       "      <th></th>\n",
       "      <th></th>\n",
       "      <th></th>\n",
       "      <th></th>\n",
       "    </tr>\n",
       "  </thead>\n",
       "  <tbody>\n",
       "    <tr>\n",
       "      <th>Yemen</th>\n",
       "      <td>Asia</td>\n",
       "      <td>1.0</td>\n",
       "      <td>1479.147</td>\n",
       "      <td>18.8</td>\n",
       "    </tr>\n",
       "    <tr>\n",
       "      <th>Nepal</th>\n",
       "      <td>Asia</td>\n",
       "      <td>1.0</td>\n",
       "      <td>2442.804</td>\n",
       "      <td>15.0</td>\n",
       "    </tr>\n",
       "    <tr>\n",
       "      <th>Tajikistan</th>\n",
       "      <td>Asia</td>\n",
       "      <td>15.0</td>\n",
       "      <td>2896.913</td>\n",
       "      <td>4.8</td>\n",
       "    </tr>\n",
       "    <tr>\n",
       "      <th>Kyrgyzstan</th>\n",
       "      <td>Asia</td>\n",
       "      <td>3.0</td>\n",
       "      <td>3393.474</td>\n",
       "      <td>1.4</td>\n",
       "    </tr>\n",
       "    <tr>\n",
       "      <th>Bangladesh</th>\n",
       "      <td>Asia</td>\n",
       "      <td>3.0</td>\n",
       "      <td>3523.984</td>\n",
       "      <td>14.8</td>\n",
       "    </tr>\n",
       "    <tr>\n",
       "      <th>Palestine</th>\n",
       "      <td>Asia</td>\n",
       "      <td>4.0</td>\n",
       "      <td>4449.898</td>\n",
       "      <td>1.0</td>\n",
       "    </tr>\n",
       "    <tr>\n",
       "      <th>Pakistan</th>\n",
       "      <td>Asia</td>\n",
       "      <td>2.0</td>\n",
       "      <td>5034.708</td>\n",
       "      <td>4.0</td>\n",
       "    </tr>\n",
       "    <tr>\n",
       "      <th>Myanmar</th>\n",
       "      <td>Asia</td>\n",
       "      <td>8.0</td>\n",
       "      <td>5591.597</td>\n",
       "      <td>6.4</td>\n",
       "    </tr>\n",
       "    <tr>\n",
       "      <th>Vietnam</th>\n",
       "      <td>Asia</td>\n",
       "      <td>2.0</td>\n",
       "      <td>6171.884</td>\n",
       "      <td>2.0</td>\n",
       "    </tr>\n",
       "    <tr>\n",
       "      <th>Laos</th>\n",
       "      <td>Asia</td>\n",
       "      <td>2.0</td>\n",
       "      <td>6397.360</td>\n",
       "      <td>22.7</td>\n",
       "    </tr>\n",
       "  </tbody>\n",
       "</table>\n",
       "</div>"
      ],
      "text/plain": [
       "           continent  total_cases  gdp_per_capita  extreme_poverty\n",
       "location                                                          \n",
       "Yemen           Asia          1.0        1479.147             18.8\n",
       "Nepal           Asia          1.0        2442.804             15.0\n",
       "Tajikistan      Asia         15.0        2896.913              4.8\n",
       "Kyrgyzstan      Asia          3.0        3393.474              1.4\n",
       "Bangladesh      Asia          3.0        3523.984             14.8\n",
       "Palestine       Asia          4.0        4449.898              1.0\n",
       "Pakistan        Asia          2.0        5034.708              4.0\n",
       "Myanmar         Asia          8.0        5591.597              6.4\n",
       "Vietnam         Asia          2.0        6171.884              2.0\n",
       "Laos            Asia          2.0        6397.360             22.7"
      ]
     },
     "execution_count": 105,
     "metadata": {},
     "output_type": "execute_result"
    }
   ],
   "source": [
    "# find 10 lowest GDP per capita countries in Asia\n",
    "\n",
    "asiagdpLow = asiaGDPData.groupby('location').min().nsmallest(10, 'gdp_per_capita')\n",
    "asiagdpLow"
   ]
  },
  {
   "cell_type": "code",
   "execution_count": 106,
   "id": "236ff5e5",
   "metadata": {},
   "outputs": [
    {
     "data": {
      "text/html": [
       "<div>\n",
       "<style scoped>\n",
       "    .dataframe tbody tr th:only-of-type {\n",
       "        vertical-align: middle;\n",
       "    }\n",
       "\n",
       "    .dataframe tbody tr th {\n",
       "        vertical-align: top;\n",
       "    }\n",
       "\n",
       "    .dataframe thead th {\n",
       "        text-align: right;\n",
       "    }\n",
       "</style>\n",
       "<table border=\"1\" class=\"dataframe\">\n",
       "  <thead>\n",
       "    <tr style=\"text-align: right;\">\n",
       "      <th></th>\n",
       "      <th>total_cases</th>\n",
       "      <th>gdp_per_capita</th>\n",
       "      <th>extreme_poverty</th>\n",
       "    </tr>\n",
       "    <tr>\n",
       "      <th>location</th>\n",
       "      <th></th>\n",
       "      <th></th>\n",
       "      <th></th>\n",
       "    </tr>\n",
       "  </thead>\n",
       "  <tbody>\n",
       "    <tr>\n",
       "      <th>Yemen</th>\n",
       "      <td>1.0</td>\n",
       "      <td>1479.147</td>\n",
       "      <td>18.8</td>\n",
       "    </tr>\n",
       "    <tr>\n",
       "      <th>Nepal</th>\n",
       "      <td>1.0</td>\n",
       "      <td>2442.804</td>\n",
       "      <td>15.0</td>\n",
       "    </tr>\n",
       "    <tr>\n",
       "      <th>Tajikistan</th>\n",
       "      <td>15.0</td>\n",
       "      <td>2896.913</td>\n",
       "      <td>4.8</td>\n",
       "    </tr>\n",
       "    <tr>\n",
       "      <th>Kyrgyzstan</th>\n",
       "      <td>3.0</td>\n",
       "      <td>3393.474</td>\n",
       "      <td>1.4</td>\n",
       "    </tr>\n",
       "    <tr>\n",
       "      <th>Bangladesh</th>\n",
       "      <td>3.0</td>\n",
       "      <td>3523.984</td>\n",
       "      <td>14.8</td>\n",
       "    </tr>\n",
       "    <tr>\n",
       "      <th>Palestine</th>\n",
       "      <td>4.0</td>\n",
       "      <td>4449.898</td>\n",
       "      <td>1.0</td>\n",
       "    </tr>\n",
       "    <tr>\n",
       "      <th>Pakistan</th>\n",
       "      <td>2.0</td>\n",
       "      <td>5034.708</td>\n",
       "      <td>4.0</td>\n",
       "    </tr>\n",
       "    <tr>\n",
       "      <th>Myanmar</th>\n",
       "      <td>8.0</td>\n",
       "      <td>5591.597</td>\n",
       "      <td>6.4</td>\n",
       "    </tr>\n",
       "    <tr>\n",
       "      <th>Vietnam</th>\n",
       "      <td>2.0</td>\n",
       "      <td>6171.884</td>\n",
       "      <td>2.0</td>\n",
       "    </tr>\n",
       "    <tr>\n",
       "      <th>Laos</th>\n",
       "      <td>2.0</td>\n",
       "      <td>6397.360</td>\n",
       "      <td>22.7</td>\n",
       "    </tr>\n",
       "  </tbody>\n",
       "</table>\n",
       "</div>"
      ],
      "text/plain": [
       "            total_cases  gdp_per_capita  extreme_poverty\n",
       "location                                                \n",
       "Yemen               1.0        1479.147             18.8\n",
       "Nepal               1.0        2442.804             15.0\n",
       "Tajikistan         15.0        2896.913              4.8\n",
       "Kyrgyzstan          3.0        3393.474              1.4\n",
       "Bangladesh          3.0        3523.984             14.8\n",
       "Palestine           4.0        4449.898              1.0\n",
       "Pakistan            2.0        5034.708              4.0\n",
       "Myanmar             8.0        5591.597              6.4\n",
       "Vietnam             2.0        6171.884              2.0\n",
       "Laos                2.0        6397.360             22.7"
      ]
     },
     "execution_count": 106,
     "metadata": {},
     "output_type": "execute_result"
    }
   ],
   "source": [
    "asiagdpLow.drop('continent', axis=1, inplace=True)\n",
    "asiagdpLow"
   ]
  },
  {
   "cell_type": "code",
   "execution_count": 107,
   "id": "1e5d1354",
   "metadata": {},
   "outputs": [
    {
     "name": "stdout",
     "output_type": "stream",
     "text": [
      "                 total_cases  gdp_per_capita  extreme_poverty\n",
      "total_cases         1.000000       -0.058821        -0.339603\n",
      "gdp_per_capita     -0.058821        1.000000        -0.193039\n",
      "extreme_poverty    -0.339603       -0.193039         1.000000\n"
     ]
    }
   ],
   "source": [
    "# correlation 10 lowest GDP\n",
    "\n",
    "asiagdpLowCorr=asiagdpLow.corr()\n",
    "print(asiagdpLowCorr)"
   ]
  },
  {
   "cell_type": "code",
   "execution_count": 108,
   "id": "b5836044",
   "metadata": {},
   "outputs": [
    {
     "data": {
      "image/png": "[encoded data removed]",
      "text/plain": [
       "<Figure size 640x480 with 2 Axes>"
      ]
     },
     "metadata": {},
     "output_type": "display_data"
    }
   ],
   "source": [
    "# matrix\n",
    "\n",
    "asiagdpLowCorrMatrix= asiagdpLowCorr.round(2)\n",
    "sns.heatmap(asiagdpLowCorrMatrix, annot=True)\n",
    "plt.show()"
   ]
  },
  {
   "cell_type": "markdown",
   "id": "9e1ff533",
   "metadata": {},
   "source": [
    "# Does poverty levels affect total number of cases?\n",
    "\n",
    "for Poverty Levels I focused on South America"
   ]
  },
  {
   "cell_type": "code",
   "execution_count": 109,
   "id": "0b562fde",
   "metadata": {},
   "outputs": [],
   "source": [
    "# South America data\n",
    "\n",
    "sapLData=data2.loc[data2['continent'] == 'South America']\n",
    "sapLData=sapLData.drop(['continent'], axis=1)\n",
    "sapLData=sapLData.groupby('location')[['total_cases', 'gdp_per_capita', 'extreme_poverty']].mean().round(1)"
   ]
  },
  {
   "cell_type": "code",
   "execution_count": 111,
   "id": "865fa250",
   "metadata": {},
   "outputs": [
    {
     "name": "stdout",
     "output_type": "stream",
     "text": [
      "          total_cases  gdp_per_capita  extreme_poverty\n",
      "location                                              \n",
      "Bolivia      209729.0          6885.8              7.1\n",
      "Colombia    1893749.8         13254.9              4.5\n",
      "Ecuador      232988.1         10581.9              3.6\n",
      "Peru        1087812.1         12236.7              3.5\n",
      "Brazil      8775747.3         14103.5              3.4\n"
     ]
    }
   ],
   "source": [
    "# highest poverty level\n",
    "\n",
    "saHighPl=sapLData.nlargest(n=5, columns=['extreme_poverty'])\n",
    "print(saHighPl)"
   ]
  },
  {
   "cell_type": "code",
   "execution_count": 113,
   "id": "dead373a",
   "metadata": {},
   "outputs": [
    {
     "name": "stdout",
     "output_type": "stream",
     "text": [
      "                 total_cases  gdp_per_capita  extreme_poverty\n",
      "total_cases         1.000000        0.652642        -0.418367\n",
      "gdp_per_capita      0.652642        1.000000        -0.831895\n",
      "extreme_poverty    -0.418367       -0.831895         1.000000\n"
     ]
    }
   ],
   "source": [
    "# correlation\n",
    "\n",
    "saHighPlCorr=saHighPl.corr()\n",
    "print(saHighPlCorr)"
   ]
  },
  {
   "cell_type": "code",
   "execution_count": 114,
   "id": "e5344758",
   "metadata": {
    "scrolled": false
   },
   "outputs": [
    {
     "data": {
      "image/png": "[encoded data removed]",
      "text/plain": [
       "<Figure size 640x480 with 2 Axes>"
      ]
     },
     "metadata": {},
     "output_type": "display_data"
    }
   ],
   "source": [
    "# corelation matrix\n",
    "\n",
    "saHighPLMatrix = saHighPlCorr.round(2)\n",
    "sns.heatmap(saHighPLMatrix, annot=True)\n",
    "plt.show()"
   ]
  },
  {
   "cell_type": "code",
   "execution_count": 115,
   "id": "efeb651f",
   "metadata": {},
   "outputs": [
    {
     "name": "stdout",
     "output_type": "stream",
     "text": [
      "           total_cases  gdp_per_capita  extreme_poverty\n",
      "location                                               \n",
      "Uruguay       112792.6         20551.4              0.1\n",
      "Argentina    1920715.6         18933.9              0.6\n",
      "Chile         738092.7         22767.0              1.3\n",
      "Paraguay      163095.5          8827.0              1.7\n",
      "Brazil       8775747.3         14103.5              3.4\n"
     ]
    }
   ],
   "source": [
    "# lowest poverty levels\n",
    "\n",
    "saLowPl=sapLData.nsmallest(n=5, columns=['extreme_poverty'])\n",
    "print(saLowPl)"
   ]
  },
  {
   "cell_type": "code",
   "execution_count": 116,
   "id": "069dc650",
   "metadata": {},
   "outputs": [
    {
     "name": "stdout",
     "output_type": "stream",
     "text": [
      "                 total_cases  gdp_per_capita  extreme_poverty\n",
      "total_cases         1.000000       -0.229417         0.838898\n",
      "gdp_per_capita     -0.229417        1.000000        -0.529234\n",
      "extreme_poverty     0.838898       -0.529234         1.000000\n"
     ]
    }
   ],
   "source": [
    "# correlation\n",
    "\n",
    "saLowPlCorr=saLowPl.corr()\n",
    "print(saLowPlCorr)"
   ]
  },
  {
   "cell_type": "code",
   "execution_count": 117,
   "id": "97104c46",
   "metadata": {},
   "outputs": [
    {
     "data": {
      "image/png": "[encoded data removed]",
      "text/plain": [
       "<Figure size 640x480 with 2 Axes>"
      ]
     },
     "metadata": {},
     "output_type": "display_data"
    }
   ],
   "source": [
    "# corelation matrix\n",
    "\n",
    "saLowPLMatrix = saLowPlCorr.round(2)\n",
    "sns.heatmap(saLowPLMatrix, annot=True)\n",
    "plt.show()"
   ]
  },
  {
   "cell_type": "markdown",
   "id": "3261b109",
   "metadata": {},
   "source": [
    "# Does age play a roll?\n",
    "\n",
    "For this section I considered South America and Asia"
   ]
  },
  {
   "cell_type": "code",
   "execution_count": 62,
   "id": "ba33bec4",
   "metadata": {},
   "outputs": [],
   "source": [
    "data3 = data[['continent', 'location', 'total_cases', 'aged_65_older', 'median_age']]"
   ]
  },
  {
   "cell_type": "markdown",
   "id": "d71df059",
   "metadata": {},
   "source": [
    "## South America \n",
    "\n",
    "I looked at the ten countries with the highest median age"
   ]
  },
  {
   "cell_type": "code",
   "execution_count": 63,
   "id": "9c1045b6",
   "metadata": {},
   "outputs": [],
   "source": [
    "# South America data\n",
    "\n",
    "saAgeData=data3.loc[data3['continent'] == 'South America']\n",
    "saAgeData=saAgeData.drop(['continent'], axis=1)\n",
    "saAgeData=saAgeData.groupby('location')[['total_cases', 'aged_65_older', 'median_age']].mean().round(1)"
   ]
  },
  {
   "cell_type": "code",
   "execution_count": 64,
   "id": "e0660ad0",
   "metadata": {},
   "outputs": [
    {
     "name": "stdout",
     "output_type": "stream",
     "text": [
      "           total_cases  aged_65_older  median_age\n",
      "location                                         \n",
      "Uruguay       112792.6           14.7        35.6\n",
      "Chile         738092.7           11.1        35.4\n",
      "Brazil       8775747.3            8.6        33.5\n",
      "Colombia     1893749.8            7.6        32.2\n",
      "Argentina    1920715.6           11.2        31.9\n",
      "Suriname        9676.8            6.9        29.6\n",
      "Peru         1087812.1            7.2        29.1\n",
      "Venezuela     131151.6            6.6        29.0\n",
      "Ecuador       232988.1            7.1        28.1\n",
      "Paraguay      163095.5            6.4        26.5\n"
     ]
    }
   ],
   "source": [
    "# Highest 10 countries \n",
    "\n",
    "saAgeHigh=saAgeData.nlargest(n=10, columns=['median_age'])\n",
    "print(saAgeHigh)"
   ]
  },
  {
   "cell_type": "code",
   "execution_count": 65,
   "id": "fad7dc37",
   "metadata": {},
   "outputs": [
    {
     "name": "stdout",
     "output_type": "stream",
     "text": [
      "               total_cases  aged_65_older  median_age\n",
      "total_cases       1.000000       0.015561    0.330814\n",
      "aged_65_older     0.015561       1.000000    0.829356\n",
      "median_age        0.330814       0.829356    1.000000\n"
     ]
    }
   ],
   "source": [
    "# correlation\n",
    "\n",
    "saAgeHighCorr=saAgeHigh.corr()\n",
    "print(saAgeHighCorr)"
   ]
  },
  {
   "cell_type": "code",
   "execution_count": 66,
   "id": "d7bdd6a4",
   "metadata": {},
   "outputs": [
    {
     "data": {
      "text/plain": [
       "<Axes: xlabel='median_age', ylabel='total_cases'>"
      ]
     },
     "execution_count": 66,
     "metadata": {},
     "output_type": "execute_result"
    },
    {
     "data": {
      "image/png": "[encoded data removed]",
      "text/plain": [
       "<Figure size 640x480 with 1 Axes>"
      ]
     },
     "metadata": {},
     "output_type": "display_data"
    }
   ],
   "source": [
    "# scatter plot\n",
    "\n",
    "sns.scatterplot(x='median_age', y='total_cases', data=saAgeHigh)"
   ]
  },
  {
   "cell_type": "markdown",
   "id": "41c864db",
   "metadata": {},
   "source": [
    "## Asia\n",
    "\n",
    "for Asia I looked at the 10 lowest median age countries"
   ]
  },
  {
   "cell_type": "code",
   "execution_count": 67,
   "id": "30924163",
   "metadata": {},
   "outputs": [],
   "source": [
    "# Asia data\n",
    "\n",
    "asiaAgeData=data3.loc[data3['continent'] == 'Asia']\n",
    "asiaAgeData=asiaAgeData.drop(['continent'], axis=1)\n",
    "asiaAgeData=asiaAgeData.groupby('location')[['total_cases', 'aged_65_older', 'median_age']].mean().round(1)"
   ]
  },
  {
   "cell_type": "code",
   "execution_count": 68,
   "id": "03fdc2a4",
   "metadata": {},
   "outputs": [
    {
     "name": "stdout",
     "output_type": "stream",
     "text": [
      "           total_cases  aged_65_older  median_age\n",
      "location                                         \n",
      "Bolivia       209729.0            6.7        25.4\n",
      "Guyana          8787.7            5.3        26.3\n",
      "Paraguay      163095.5            6.4        26.5\n",
      "Ecuador       232988.1            7.1        28.1\n",
      "Venezuela     131151.6            6.6        29.0\n",
      "Peru         1087812.1            7.2        29.1\n",
      "Suriname        9676.8            6.9        29.6\n",
      "Argentina    1920715.6           11.2        31.9\n",
      "Colombia     1893749.8            7.6        32.2\n",
      "Brazil       8775747.3            8.6        33.5\n"
     ]
    }
   ],
   "source": [
    "# Lowest 10 countries \n",
    "\n",
    "asiaLowAgeData=saAgeData.nsmallest(n=10, columns=['median_age'])\n",
    "print(asiaLowAgeData)"
   ]
  },
  {
   "cell_type": "code",
   "execution_count": 69,
   "id": "851cffbc",
   "metadata": {},
   "outputs": [
    {
     "name": "stdout",
     "output_type": "stream",
     "text": [
      "               total_cases  aged_65_older  median_age\n",
      "total_cases       1.000000       0.469674    0.725111\n",
      "aged_65_older     0.469674       1.000000    0.713593\n",
      "median_age        0.725111       0.713593    1.000000\n"
     ]
    }
   ],
   "source": [
    "# correlation\n",
    "\n",
    "saAgeLowCorr=asiaLowAgeData.corr()\n",
    "print(saAgeLowCorr)"
   ]
  },
  {
   "cell_type": "code",
   "execution_count": 70,
   "id": "cb5424f4",
   "metadata": {},
   "outputs": [
    {
     "data": {
      "text/plain": [
       "<Axes: xlabel='median_age', ylabel='total_cases'>"
      ]
     },
     "execution_count": 70,
     "metadata": {},
     "output_type": "execute_result"
    },
    {
     "data": {
      "image/png": "[encoded data removed]",
      "text/plain": [
       "<Figure size 640x480 with 1 Axes>"
      ]
     },
     "metadata": {},
     "output_type": "display_data"
    }
   ],
   "source": [
    "# scatter plot\n",
    "\n",
    "sns.scatterplot(x='median_age', y='total_cases', data=asiaLowAgeData)"
   ]
  },
  {
   "cell_type": "markdown",
   "id": "25d568d2",
   "metadata": {},
   "source": [
    "# Smokers?"
   ]
  },
  {
   "cell_type": "code",
   "execution_count": 119,
   "id": "dc2d7e49",
   "metadata": {},
   "outputs": [],
   "source": [
    "data4 = data[['continent', 'location', 'total_cases', 'male_smokers', 'female_smokers']]"
   ]
  },
  {
   "cell_type": "markdown",
   "id": "2881ae5c",
   "metadata": {},
   "source": [
    "## South America\n",
    "\n"
   ]
  },
  {
   "cell_type": "code",
   "execution_count": 120,
   "id": "1dfc026d",
   "metadata": {},
   "outputs": [],
   "source": [
    "# South America data\n",
    "\n",
    "saSmokeData=data4[data4['continent'] == 'South America']\n",
    "saSmokeData=saSmokeData.drop(['continent'], axis=1)\n",
    "saSmokeData=saSmokeData.groupby('location')[['total_cases', 'male_smokers', 'female_smokers']].mean().round(1)"
   ]
  },
  {
   "cell_type": "code",
   "execution_count": 121,
   "id": "c7f194cc",
   "metadata": {},
   "outputs": [
    {
     "data": {
      "text/html": [
       "<div>\n",
       "<style scoped>\n",
       "    .dataframe tbody tr th:only-of-type {\n",
       "        vertical-align: middle;\n",
       "    }\n",
       "\n",
       "    .dataframe tbody tr th {\n",
       "        vertical-align: top;\n",
       "    }\n",
       "\n",
       "    .dataframe thead th {\n",
       "        text-align: right;\n",
       "    }\n",
       "</style>\n",
       "<table border=\"1\" class=\"dataframe\">\n",
       "  <thead>\n",
       "    <tr style=\"text-align: right;\">\n",
       "      <th></th>\n",
       "      <th>total_cases</th>\n",
       "      <th>male_smokers</th>\n",
       "      <th>female_smokers</th>\n",
       "    </tr>\n",
       "    <tr>\n",
       "      <th>location</th>\n",
       "      <th></th>\n",
       "      <th></th>\n",
       "      <th></th>\n",
       "    </tr>\n",
       "  </thead>\n",
       "  <tbody>\n",
       "    <tr>\n",
       "      <th>Suriname</th>\n",
       "      <td>9676.8</td>\n",
       "      <td>42.9</td>\n",
       "      <td>7.4</td>\n",
       "    </tr>\n",
       "    <tr>\n",
       "      <th>Chile</th>\n",
       "      <td>738092.7</td>\n",
       "      <td>41.5</td>\n",
       "      <td>34.2</td>\n",
       "    </tr>\n",
       "    <tr>\n",
       "      <th>Argentina</th>\n",
       "      <td>1920715.6</td>\n",
       "      <td>27.7</td>\n",
       "      <td>16.2</td>\n",
       "    </tr>\n",
       "    <tr>\n",
       "      <th>Paraguay</th>\n",
       "      <td>163095.5</td>\n",
       "      <td>21.6</td>\n",
       "      <td>5.0</td>\n",
       "    </tr>\n",
       "    <tr>\n",
       "      <th>Uruguay</th>\n",
       "      <td>112792.6</td>\n",
       "      <td>19.9</td>\n",
       "      <td>14.0</td>\n",
       "    </tr>\n",
       "  </tbody>\n",
       "</table>\n",
       "</div>"
      ],
      "text/plain": [
       "           total_cases  male_smokers  female_smokers\n",
       "location                                            \n",
       "Suriname        9676.8          42.9             7.4\n",
       "Chile         738092.7          41.5            34.2\n",
       "Argentina    1920715.6          27.7            16.2\n",
       "Paraguay      163095.5          21.6             5.0\n",
       "Uruguay       112792.6          19.9            14.0"
      ]
     },
     "execution_count": 121,
     "metadata": {},
     "output_type": "execute_result"
    }
   ],
   "source": [
    "# Highest 5 countries (Male)\n",
    "\n",
    "saSmokeDataM = saSmokeData.sort_values(by='male_smokers', ascending=False).head(5)\n",
    "saSmokeDataM"
   ]
  },
  {
   "cell_type": "code",
   "execution_count": 122,
   "id": "d480dd22",
   "metadata": {},
   "outputs": [
    {
     "data": {
      "image/png": "[encoded data removed]",
      "text/plain": [
       "<Figure size 800x600 with 2 Axes>"
      ]
     },
     "metadata": {},
     "output_type": "display_data"
    }
   ],
   "source": [
    "# Correlation Heatmap Male\n",
    "\n",
    "saSmokeDataM_corr = saSmokeDataM.corr()\n",
    "\n",
    "# Create a heatmap\n",
    "plt.figure(figsize=(8, 6))\n",
    "sns.heatmap(saSmokeDataM_corr, annot=True, cmap='coolwarm', linewidths=0.5)\n",
    "plt.title('Male SA Smoker')\n",
    "plt.show()"
   ]
  },
  {
   "cell_type": "code",
   "execution_count": 76,
   "id": "88a3961b",
   "metadata": {},
   "outputs": [
    {
     "data": {
      "text/html": [
       "<div>\n",
       "<style scoped>\n",
       "    .dataframe tbody tr th:only-of-type {\n",
       "        vertical-align: middle;\n",
       "    }\n",
       "\n",
       "    .dataframe tbody tr th {\n",
       "        vertical-align: top;\n",
       "    }\n",
       "\n",
       "    .dataframe thead th {\n",
       "        text-align: right;\n",
       "    }\n",
       "</style>\n",
       "<table border=\"1\" class=\"dataframe\">\n",
       "  <thead>\n",
       "    <tr style=\"text-align: right;\">\n",
       "      <th></th>\n",
       "      <th>total_cases</th>\n",
       "      <th>male_smokers</th>\n",
       "      <th>female_smokers</th>\n",
       "    </tr>\n",
       "    <tr>\n",
       "      <th>location</th>\n",
       "      <th></th>\n",
       "      <th></th>\n",
       "      <th></th>\n",
       "    </tr>\n",
       "  </thead>\n",
       "  <tbody>\n",
       "    <tr>\n",
       "      <th>Chile</th>\n",
       "      <td>738092.7</td>\n",
       "      <td>41.5</td>\n",
       "      <td>34.2</td>\n",
       "    </tr>\n",
       "    <tr>\n",
       "      <th>Argentina</th>\n",
       "      <td>1920715.6</td>\n",
       "      <td>27.7</td>\n",
       "      <td>16.2</td>\n",
       "    </tr>\n",
       "    <tr>\n",
       "      <th>Uruguay</th>\n",
       "      <td>112792.6</td>\n",
       "      <td>19.9</td>\n",
       "      <td>14.0</td>\n",
       "    </tr>\n",
       "    <tr>\n",
       "      <th>Brazil</th>\n",
       "      <td>8775747.3</td>\n",
       "      <td>17.9</td>\n",
       "      <td>10.1</td>\n",
       "    </tr>\n",
       "    <tr>\n",
       "      <th>Suriname</th>\n",
       "      <td>9676.8</td>\n",
       "      <td>42.9</td>\n",
       "      <td>7.4</td>\n",
       "    </tr>\n",
       "  </tbody>\n",
       "</table>\n",
       "</div>"
      ],
      "text/plain": [
       "           total_cases  male_smokers  female_smokers\n",
       "location                                            \n",
       "Chile         738092.7          41.5            34.2\n",
       "Argentina    1920715.6          27.7            16.2\n",
       "Uruguay       112792.6          19.9            14.0\n",
       "Brazil       8775747.3          17.9            10.1\n",
       "Suriname        9676.8          42.9             7.4"
      ]
     },
     "execution_count": 76,
     "metadata": {},
     "output_type": "execute_result"
    }
   ],
   "source": [
    "# Highest 5 countries (Female)\n",
    "\n",
    "saSmokeDataF = asiaSmokeData.sort_values(by='female_smokers', ascending=False).head(5)\n",
    "saSmokeDataF"
   ]
  },
  {
   "cell_type": "code",
   "execution_count": 77,
   "id": "07bcc26b",
   "metadata": {},
   "outputs": [
    {
     "data": {
      "image/png": "[encoded data removed]",
      "text/plain": [
       "<Figure size 800x600 with 2 Axes>"
      ]
     },
     "metadata": {},
     "output_type": "display_data"
    }
   ],
   "source": [
    "# Correlation heatmap Female\n",
    "\n",
    "saSmokeDataF_corr = saSmokeDataF.corr()\n",
    "\n",
    "# Create a heatmap\n",
    "plt.figure(figsize=(8, 6))\n",
    "sns.heatmap(saSmokeDataF_corr, annot=True, cmap='coolwarm', linewidths=0.5)\n",
    "plt.title('Female SA Smoker')\n",
    "plt.show()"
   ]
  },
  {
   "cell_type": "code",
   "execution_count": 126,
   "id": "ac084a1d",
   "metadata": {},
   "outputs": [],
   "source": [
    "# Asia data\n",
    "\n",
    "asiaSmokeData=data4[data4['continent'] == 'Asia']\n",
    "asiaSmokeData=asiaSmokeData.drop(['continent'], axis=1)\n",
    "asiaSmokeData=asiaSmokeData.groupby('location')[['total_cases', 'male_smokers', 'female_smokers']].mean().round(1)"
   ]
  },
  {
   "cell_type": "code",
   "execution_count": 127,
   "id": "bb698c1f",
   "metadata": {},
   "outputs": [
    {
     "data": {
      "text/html": [
       "<div>\n",
       "<style scoped>\n",
       "    .dataframe tbody tr th:only-of-type {\n",
       "        vertical-align: middle;\n",
       "    }\n",
       "\n",
       "    .dataframe tbody tr th {\n",
       "        vertical-align: top;\n",
       "    }\n",
       "\n",
       "    .dataframe thead th {\n",
       "        text-align: right;\n",
       "    }\n",
       "</style>\n",
       "<table border=\"1\" class=\"dataframe\">\n",
       "  <thead>\n",
       "    <tr style=\"text-align: right;\">\n",
       "      <th></th>\n",
       "      <th>total_cases</th>\n",
       "      <th>male_smokers</th>\n",
       "      <th>female_smokers</th>\n",
       "    </tr>\n",
       "    <tr>\n",
       "      <th>location</th>\n",
       "      <th></th>\n",
       "      <th></th>\n",
       "      <th></th>\n",
       "    </tr>\n",
       "  </thead>\n",
       "  <tbody>\n",
       "    <tr>\n",
       "      <th>Timor</th>\n",
       "      <td>3182.0</td>\n",
       "      <td>78.1</td>\n",
       "      <td>6.3</td>\n",
       "    </tr>\n",
       "    <tr>\n",
       "      <th>Indonesia</th>\n",
       "      <td>1153609.5</td>\n",
       "      <td>76.1</td>\n",
       "      <td>2.8</td>\n",
       "    </tr>\n",
       "    <tr>\n",
       "      <th>Georgia</th>\n",
       "      <td>186090.6</td>\n",
       "      <td>55.5</td>\n",
       "      <td>5.3</td>\n",
       "    </tr>\n",
       "    <tr>\n",
       "      <th>Maldives</th>\n",
       "      <td>26609.8</td>\n",
       "      <td>55.0</td>\n",
       "      <td>2.1</td>\n",
       "    </tr>\n",
       "    <tr>\n",
       "      <th>Armenia</th>\n",
       "      <td>124356.1</td>\n",
       "      <td>52.1</td>\n",
       "      <td>1.5</td>\n",
       "    </tr>\n",
       "  </tbody>\n",
       "</table>\n",
       "</div>"
      ],
      "text/plain": [
       "           total_cases  male_smokers  female_smokers\n",
       "location                                            \n",
       "Timor           3182.0          78.1             6.3\n",
       "Indonesia    1153609.5          76.1             2.8\n",
       "Georgia       186090.6          55.5             5.3\n",
       "Maldives       26609.8          55.0             2.1\n",
       "Armenia       124356.1          52.1             1.5"
      ]
     },
     "execution_count": 127,
     "metadata": {},
     "output_type": "execute_result"
    }
   ],
   "source": [
    "# Highest 5 countries (Male)\n",
    "\n",
    "asiaSmokeDataM = asiaSmokeData.sort_values(by='male_smokers', ascending=False).head(5)\n",
    "asiaSmokeDataM"
   ]
  },
  {
   "cell_type": "code",
   "execution_count": 129,
   "id": "90c1a0e4",
   "metadata": {},
   "outputs": [
    {
     "data": {
      "image/png": "[encoded data removed]",
      "text/plain": [
       "<Figure size 800x600 with 2 Axes>"
      ]
     },
     "metadata": {},
     "output_type": "display_data"
    }
   ],
   "source": [
    "# Correlation Heatmap Male\n",
    "\n",
    "asiaSmokeDataMcorr = asiaSmokeDataM.corr()\n",
    "\n",
    "# Create a heatmap\n",
    "plt.figure(figsize=(8, 6))\n",
    "sns.heatmap(asiaSmokeDataMcorr, annot=True, cmap='coolwarm', linewidths=0.5)\n",
    "plt.title('Male Asia Smoker')\n",
    "plt.show()"
   ]
  },
  {
   "cell_type": "code",
   "execution_count": 130,
   "id": "5b8659cc",
   "metadata": {},
   "outputs": [
    {
     "data": {
      "text/html": [
       "<div>\n",
       "<style scoped>\n",
       "    .dataframe tbody tr th:only-of-type {\n",
       "        vertical-align: middle;\n",
       "    }\n",
       "\n",
       "    .dataframe tbody tr th {\n",
       "        vertical-align: top;\n",
       "    }\n",
       "\n",
       "    .dataframe thead th {\n",
       "        text-align: right;\n",
       "    }\n",
       "</style>\n",
       "<table border=\"1\" class=\"dataframe\">\n",
       "  <thead>\n",
       "    <tr style=\"text-align: right;\">\n",
       "      <th></th>\n",
       "      <th>total_cases</th>\n",
       "      <th>male_smokers</th>\n",
       "      <th>female_smokers</th>\n",
       "    </tr>\n",
       "    <tr>\n",
       "      <th>location</th>\n",
       "      <th></th>\n",
       "      <th></th>\n",
       "      <th></th>\n",
       "    </tr>\n",
       "  </thead>\n",
       "  <tbody>\n",
       "    <tr>\n",
       "      <th>Chile</th>\n",
       "      <td>738092.7</td>\n",
       "      <td>41.5</td>\n",
       "      <td>34.2</td>\n",
       "    </tr>\n",
       "    <tr>\n",
       "      <th>Argentina</th>\n",
       "      <td>1920715.6</td>\n",
       "      <td>27.7</td>\n",
       "      <td>16.2</td>\n",
       "    </tr>\n",
       "    <tr>\n",
       "      <th>Uruguay</th>\n",
       "      <td>112792.6</td>\n",
       "      <td>19.9</td>\n",
       "      <td>14.0</td>\n",
       "    </tr>\n",
       "    <tr>\n",
       "      <th>Brazil</th>\n",
       "      <td>8775747.3</td>\n",
       "      <td>17.9</td>\n",
       "      <td>10.1</td>\n",
       "    </tr>\n",
       "    <tr>\n",
       "      <th>Suriname</th>\n",
       "      <td>9676.8</td>\n",
       "      <td>42.9</td>\n",
       "      <td>7.4</td>\n",
       "    </tr>\n",
       "  </tbody>\n",
       "</table>\n",
       "</div>"
      ],
      "text/plain": [
       "           total_cases  male_smokers  female_smokers\n",
       "location                                            \n",
       "Chile         738092.7          41.5            34.2\n",
       "Argentina    1920715.6          27.7            16.2\n",
       "Uruguay       112792.6          19.9            14.0\n",
       "Brazil       8775747.3          17.9            10.1\n",
       "Suriname        9676.8          42.9             7.4"
      ]
     },
     "execution_count": 130,
     "metadata": {},
     "output_type": "execute_result"
    }
   ],
   "source": [
    "# Highest 5 countries (Female)\n",
    "\n",
    "asiaSmokeDataF = saSmokeData.sort_values(by='female_smokers', ascending=False).head(5)\n",
    "asiaSmokeDataF"
   ]
  },
  {
   "cell_type": "code",
   "execution_count": 132,
   "id": "f272a9b9",
   "metadata": {},
   "outputs": [
    {
     "data": {
      "image/png": "[encoded data removed]",
      "text/plain": [
       "<Figure size 800x600 with 2 Axes>"
      ]
     },
     "metadata": {},
     "output_type": "display_data"
    }
   ],
   "source": [
    "# Correlation Heatmap Male\n",
    "\n",
    "asiaSmokeDataFcorr = asiaSmokeDataF.corr()\n",
    "\n",
    "# Create a heatmap\n",
    "plt.figure(figsize=(8, 6))\n",
    "sns.heatmap(asiaSmokeDataFcorr, annot=True, cmap='coolwarm', linewidths=0.5)\n",
    "plt.title('Female Asia Smoker')\n",
    "plt.show()"
   ]
  },
  {
   "cell_type": "markdown",
   "id": "2a5106c5",
   "metadata": {},
   "source": [
    "# Human Development Index\n",
    "\n",
    "Is there any correlation between total cases and HDI?"
   ]
  },
  {
   "cell_type": "code",
   "execution_count": 134,
   "id": "516ebc4d",
   "metadata": {},
   "outputs": [
    {
     "data": {
      "text/html": [
       "<div>\n",
       "<style scoped>\n",
       "    .dataframe tbody tr th:only-of-type {\n",
       "        vertical-align: middle;\n",
       "    }\n",
       "\n",
       "    .dataframe tbody tr th {\n",
       "        vertical-align: top;\n",
       "    }\n",
       "\n",
       "    .dataframe thead th {\n",
       "        text-align: right;\n",
       "    }\n",
       "</style>\n",
       "<table border=\"1\" class=\"dataframe\">\n",
       "  <thead>\n",
       "    <tr style=\"text-align: right;\">\n",
       "      <th></th>\n",
       "      <th>continent</th>\n",
       "      <th>population</th>\n",
       "      <th>total_cases</th>\n",
       "      <th>human_development_index</th>\n",
       "    </tr>\n",
       "  </thead>\n",
       "  <tbody>\n",
       "    <tr>\n",
       "      <th>0</th>\n",
       "      <td>Africa</td>\n",
       "      <td>2.572629e+07</td>\n",
       "      <td>5.697009e+04</td>\n",
       "      <td>0.561715</td>\n",
       "    </tr>\n",
       "    <tr>\n",
       "      <th>4</th>\n",
       "      <td>Oceania</td>\n",
       "      <td>4.518800e+06</td>\n",
       "      <td>5.668815e+03</td>\n",
       "      <td>0.731996</td>\n",
       "    </tr>\n",
       "    <tr>\n",
       "      <th>1</th>\n",
       "      <td>Asia</td>\n",
       "      <td>1.010347e+08</td>\n",
       "      <td>5.274810e+05</td>\n",
       "      <td>0.741945</td>\n",
       "    </tr>\n",
       "    <tr>\n",
       "      <th>3</th>\n",
       "      <td>North America</td>\n",
       "      <td>2.351530e+07</td>\n",
       "      <td>9.538055e+05</td>\n",
       "      <td>0.757381</td>\n",
       "    </tr>\n",
       "    <tr>\n",
       "      <th>5</th>\n",
       "      <td>South America</td>\n",
       "      <td>3.619773e+07</td>\n",
       "      <td>1.288201e+06</td>\n",
       "      <td>0.764339</td>\n",
       "    </tr>\n",
       "    <tr>\n",
       "      <th>2</th>\n",
       "      <td>Europe</td>\n",
       "      <td>1.599158e+07</td>\n",
       "      <td>5.149735e+05</td>\n",
       "      <td>0.880491</td>\n",
       "    </tr>\n",
       "  </tbody>\n",
       "</table>\n",
       "</div>"
      ],
      "text/plain": [
       "       continent    population   total_cases  human_development_index\n",
       "0         Africa  2.572629e+07  5.697009e+04                 0.561715\n",
       "4        Oceania  4.518800e+06  5.668815e+03                 0.731996\n",
       "1           Asia  1.010347e+08  5.274810e+05                 0.741945\n",
       "3  North America  2.351530e+07  9.538055e+05                 0.757381\n",
       "5  South America  3.619773e+07  1.288201e+06                 0.764339\n",
       "2         Europe  1.599158e+07  5.149735e+05                 0.880491"
      ]
     },
     "execution_count": 134,
     "metadata": {},
     "output_type": "execute_result"
    }
   ],
   "source": [
    "# Human Development Index Data\n",
    "\n",
    "# Create dataset using 'population', 'total_cases', 'human_development_index' and group by the 'continent' column\n",
    "hdIdata = data[['continent', 'population', 'total_cases', 'human_development_index']].groupby('continent').mean().reset_index()\n",
    "\n",
    "# Sort the dataset by the lowest value of 'total_cases'\n",
    "hdIdata = hdIdata.sort_values(by='human_development_index')\n",
    "\n",
    "hdIdata"
   ]
  },
  {
   "cell_type": "code",
   "execution_count": 135,
   "id": "7d5d0b0f",
   "metadata": {},
   "outputs": [],
   "source": [
    "# drop nan values\n",
    "\n",
    "hdIdata = hdIdata.dropna(axis=0)"
   ]
  },
  {
   "cell_type": "code",
   "execution_count": 136,
   "id": "ea822e0a",
   "metadata": {},
   "outputs": [
    {
     "data": {
      "text/html": [
       "<div>\n",
       "<style scoped>\n",
       "    .dataframe tbody tr th:only-of-type {\n",
       "        vertical-align: middle;\n",
       "    }\n",
       "\n",
       "    .dataframe tbody tr th {\n",
       "        vertical-align: top;\n",
       "    }\n",
       "\n",
       "    .dataframe thead th {\n",
       "        text-align: right;\n",
       "    }\n",
       "</style>\n",
       "<table border=\"1\" class=\"dataframe\">\n",
       "  <thead>\n",
       "    <tr style=\"text-align: right;\">\n",
       "      <th></th>\n",
       "      <th>population</th>\n",
       "      <th>total_cases</th>\n",
       "      <th>human_development_index</th>\n",
       "    </tr>\n",
       "  </thead>\n",
       "  <tbody>\n",
       "    <tr>\n",
       "      <th>0</th>\n",
       "      <td>2.572629e+07</td>\n",
       "      <td>5.697009e+04</td>\n",
       "      <td>0.561715</td>\n",
       "    </tr>\n",
       "    <tr>\n",
       "      <th>4</th>\n",
       "      <td>4.518800e+06</td>\n",
       "      <td>5.668815e+03</td>\n",
       "      <td>0.731996</td>\n",
       "    </tr>\n",
       "    <tr>\n",
       "      <th>1</th>\n",
       "      <td>1.010347e+08</td>\n",
       "      <td>5.274810e+05</td>\n",
       "      <td>0.741945</td>\n",
       "    </tr>\n",
       "    <tr>\n",
       "      <th>3</th>\n",
       "      <td>2.351530e+07</td>\n",
       "      <td>9.538055e+05</td>\n",
       "      <td>0.757381</td>\n",
       "    </tr>\n",
       "    <tr>\n",
       "      <th>5</th>\n",
       "      <td>3.619773e+07</td>\n",
       "      <td>1.288201e+06</td>\n",
       "      <td>0.764339</td>\n",
       "    </tr>\n",
       "    <tr>\n",
       "      <th>2</th>\n",
       "      <td>1.599158e+07</td>\n",
       "      <td>5.149735e+05</td>\n",
       "      <td>0.880491</td>\n",
       "    </tr>\n",
       "  </tbody>\n",
       "</table>\n",
       "</div>"
      ],
      "text/plain": [
       "     population   total_cases  human_development_index\n",
       "0  2.572629e+07  5.697009e+04                 0.561715\n",
       "4  4.518800e+06  5.668815e+03                 0.731996\n",
       "1  1.010347e+08  5.274810e+05                 0.741945\n",
       "3  2.351530e+07  9.538055e+05                 0.757381\n",
       "5  3.619773e+07  1.288201e+06                 0.764339\n",
       "2  1.599158e+07  5.149735e+05                 0.880491"
      ]
     },
     "execution_count": 136,
     "metadata": {},
     "output_type": "execute_result"
    }
   ],
   "source": [
    "hdIdata.drop('continent', axis=1, inplace=True)\n",
    "hdIdata"
   ]
  },
  {
   "cell_type": "code",
   "execution_count": 137,
   "id": "803251a4",
   "metadata": {},
   "outputs": [
    {
     "data": {
      "image/png": "[encoded data removed]",
      "text/plain": [
       "<Figure size 800x600 with 2 Axes>"
      ]
     },
     "metadata": {},
     "output_type": "display_data"
    }
   ],
   "source": [
    "# Create a heatmap\n",
    "\n",
    "hdIdataCmatrix = hdIdata.corr()\n",
    "\n",
    "# Create a heatmap\n",
    "plt.figure(figsize=(8, 6))\n",
    "sns.heatmap(hdIdataCmatrix, annot=True, cmap='coolwarm', linewidths=0.5)\n",
    "plt.title('Correlation of COVID Data')\n",
    "plt.show()"
   ]
  },
  {
   "cell_type": "code",
   "execution_count": null,
   "id": "949c0e11",
   "metadata": {},
   "outputs": [],
   "source": []
  }
 ],
 "metadata": {
  "kernelspec": {
   "display_name": "Python 3 (ipykernel)",
   "language": "python",
   "name": "python3"
  },
  "language_info": {
   "codemirror_mode": {
    "name": "ipython",
    "version": 3
   },
   "file_extension": ".py",
   "mimetype": "text/x-python",
   "name": "python",
   "nbconvert_exporter": "python",
   "pygments_lexer": "ipython3",
   "version": "3.11.5"
  }
 },
 "nbformat": 4,
 "nbformat_minor": 5
}
