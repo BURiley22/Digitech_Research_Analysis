{
 "cells": [
  {
   "cell_type": "markdown",
   "id": "9c61619c",
   "metadata": {},
   "source": [
    "The user would like to know how many apps are in: \n",
    "\n",
    " \n",
    "\n",
    "    Entertainment\n",
    "\n",
    "    Social \n",
    "\n",
    "    Productivity\n",
    "\n",
    "The user would also like to know how many of the apps in each category are free or paid. \n",
    "\n",
    "They would also like to know which app in each category is the highest priced and which app is the lowest price. \n",
    "\n",
    "List out which apps are the highest priced and what their price is and the lowest price can be a number range such as 1-50.\n",
    "\n",
    " \n",
    "\n",
    "Create data visualizations of your choice that best represents the data and write a report of your findings. "
   ]
  },
  {
   "cell_type": "code",
   "execution_count": 1,
   "id": "b065cfb2",
   "metadata": {},
   "outputs": [],
   "source": [
    "# import libraries\n",
    "\n",
    "import pandas as pd\n",
    "from matplotlib import pyplot as plt\n",
    "import seaborn as sns\n",
    "import numpy as np"
   ]
  },
  {
   "cell_type": "code",
   "execution_count": 2,
   "id": "b8d87212",
   "metadata": {},
   "outputs": [],
   "source": [
    "# read the csv file\n",
    "\n",
    "data = pd.read_csv('googleplaystoremaster.csv')"
   ]
  },
  {
   "cell_type": "code",
   "execution_count": 3,
   "id": "790f6f58",
   "metadata": {},
   "outputs": [
    {
     "data": {
      "text/html": [
       "<div>\n",
       "<style scoped>\n",
       "    .dataframe tbody tr th:only-of-type {\n",
       "        vertical-align: middle;\n",
       "    }\n",
       "\n",
       "    .dataframe tbody tr th {\n",
       "        vertical-align: top;\n",
       "    }\n",
       "\n",
       "    .dataframe thead th {\n",
       "        text-align: right;\n",
       "    }\n",
       "</style>\n",
       "<table border=\"1\" class=\"dataframe\">\n",
       "  <thead>\n",
       "    <tr style=\"text-align: right;\">\n",
       "      <th></th>\n",
       "      <th>App</th>\n",
       "      <th>Category</th>\n",
       "      <th>Rating</th>\n",
       "      <th>Reviews</th>\n",
       "      <th>Size</th>\n",
       "      <th>Installs</th>\n",
       "      <th>Type</th>\n",
       "      <th>Price</th>\n",
       "      <th>Content Rating</th>\n",
       "      <th>Genres</th>\n",
       "      <th>Last Updated</th>\n",
       "      <th>Current Ver</th>\n",
       "      <th>Android Ver</th>\n",
       "    </tr>\n",
       "  </thead>\n",
       "  <tbody>\n",
       "    <tr>\n",
       "      <th>0</th>\n",
       "      <td>Photo Editor &amp; Candy Camera &amp; Grid &amp; ScrapBook</td>\n",
       "      <td>ART_AND_DESIGN</td>\n",
       "      <td>4.1</td>\n",
       "      <td>159</td>\n",
       "      <td>19M</td>\n",
       "      <td>10,000+</td>\n",
       "      <td>Free</td>\n",
       "      <td>0</td>\n",
       "      <td>Everyone</td>\n",
       "      <td>Art &amp; Design</td>\n",
       "      <td>January 7, 2018</td>\n",
       "      <td>1.0.0</td>\n",
       "      <td>4.0.3 and up</td>\n",
       "    </tr>\n",
       "    <tr>\n",
       "      <th>1</th>\n",
       "      <td>Coloring book moana</td>\n",
       "      <td>ART_AND_DESIGN</td>\n",
       "      <td>3.9</td>\n",
       "      <td>967</td>\n",
       "      <td>14M</td>\n",
       "      <td>500,000+</td>\n",
       "      <td>Free</td>\n",
       "      <td>0</td>\n",
       "      <td>Everyone</td>\n",
       "      <td>Art &amp; Design;Pretend Play</td>\n",
       "      <td>January 15, 2018</td>\n",
       "      <td>2.0.0</td>\n",
       "      <td>4.0.3 and up</td>\n",
       "    </tr>\n",
       "    <tr>\n",
       "      <th>2</th>\n",
       "      <td>U Launcher Lite – FREE Live Cool Themes, Hide ...</td>\n",
       "      <td>ART_AND_DESIGN</td>\n",
       "      <td>4.7</td>\n",
       "      <td>87510</td>\n",
       "      <td>8.7M</td>\n",
       "      <td>5,000,000+</td>\n",
       "      <td>Free</td>\n",
       "      <td>0</td>\n",
       "      <td>Everyone</td>\n",
       "      <td>Art &amp; Design</td>\n",
       "      <td>August 1, 2018</td>\n",
       "      <td>1.2.4</td>\n",
       "      <td>4.0.3 and up</td>\n",
       "    </tr>\n",
       "    <tr>\n",
       "      <th>3</th>\n",
       "      <td>Sketch - Draw &amp; Paint</td>\n",
       "      <td>ART_AND_DESIGN</td>\n",
       "      <td>4.5</td>\n",
       "      <td>215644</td>\n",
       "      <td>25M</td>\n",
       "      <td>50,000,000+</td>\n",
       "      <td>Free</td>\n",
       "      <td>0</td>\n",
       "      <td>Teen</td>\n",
       "      <td>Art &amp; Design</td>\n",
       "      <td>June 8, 2018</td>\n",
       "      <td>Varies with device</td>\n",
       "      <td>4.2 and up</td>\n",
       "    </tr>\n",
       "    <tr>\n",
       "      <th>4</th>\n",
       "      <td>Pixel Draw - Number Art Coloring Book</td>\n",
       "      <td>ART_AND_DESIGN</td>\n",
       "      <td>4.3</td>\n",
       "      <td>967</td>\n",
       "      <td>2.8M</td>\n",
       "      <td>100,000+</td>\n",
       "      <td>Free</td>\n",
       "      <td>0</td>\n",
       "      <td>Everyone</td>\n",
       "      <td>Art &amp; Design;Creativity</td>\n",
       "      <td>June 20, 2018</td>\n",
       "      <td>1.1</td>\n",
       "      <td>4.4 and up</td>\n",
       "    </tr>\n",
       "  </tbody>\n",
       "</table>\n",
       "</div>"
      ],
      "text/plain": [
       "                                                 App        Category  Rating  \\\n",
       "0     Photo Editor & Candy Camera & Grid & ScrapBook  ART_AND_DESIGN     4.1   \n",
       "1                                Coloring book moana  ART_AND_DESIGN     3.9   \n",
       "2  U Launcher Lite – FREE Live Cool Themes, Hide ...  ART_AND_DESIGN     4.7   \n",
       "3                              Sketch - Draw & Paint  ART_AND_DESIGN     4.5   \n",
       "4              Pixel Draw - Number Art Coloring Book  ART_AND_DESIGN     4.3   \n",
       "\n",
       "  Reviews  Size     Installs  Type Price Content Rating  \\\n",
       "0     159   19M      10,000+  Free     0       Everyone   \n",
       "1     967   14M     500,000+  Free     0       Everyone   \n",
       "2   87510  8.7M   5,000,000+  Free     0       Everyone   \n",
       "3  215644   25M  50,000,000+  Free     0           Teen   \n",
       "4     967  2.8M     100,000+  Free     0       Everyone   \n",
       "\n",
       "                      Genres      Last Updated         Current Ver  \\\n",
       "0               Art & Design   January 7, 2018               1.0.0   \n",
       "1  Art & Design;Pretend Play  January 15, 2018               2.0.0   \n",
       "2               Art & Design    August 1, 2018               1.2.4   \n",
       "3               Art & Design      June 8, 2018  Varies with device   \n",
       "4    Art & Design;Creativity     June 20, 2018                 1.1   \n",
       "\n",
       "    Android Ver  \n",
       "0  4.0.3 and up  \n",
       "1  4.0.3 and up  \n",
       "2  4.0.3 and up  \n",
       "3    4.2 and up  \n",
       "4    4.4 and up  "
      ]
     },
     "execution_count": 3,
     "metadata": {},
     "output_type": "execute_result"
    }
   ],
   "source": [
    "# view first few rows of data\n",
    "\n",
    "data.head()"
   ]
  },
  {
   "cell_type": "code",
   "execution_count": 65,
   "id": "d91bf742",
   "metadata": {},
   "outputs": [],
   "source": [
    "# drop unwanted/needed columns\n",
    "\n",
    "data = data.drop(['Rating', 'Reviews', 'Size', 'Installs', 'Content Rating', 'Genres', 'Last Updated', 'Current Ver', 'Android Ver'], axis=1)"
   ]
  },
  {
   "cell_type": "code",
   "execution_count": 62,
   "id": "c856c7fe",
   "metadata": {},
   "outputs": [
    {
     "data": {
      "text/plain": [
       "array([  0.  ,   4.99,   3.99,   6.99,   1.49,   2.99,   7.99,   5.99,\n",
       "         3.49,   1.99,   9.99,   7.49,   0.99,   9.  ,   5.49,  10.  ,\n",
       "        24.99,  11.99,  79.99,  16.99,  14.99,   1.  ,  29.99,  12.99,\n",
       "         2.49,  10.99,   1.5 ,  19.99,  15.99,  33.99,  74.99,  39.99,\n",
       "         3.95,   4.49,   1.7 ,   8.99,   2.  ,   3.88,  25.99, 399.99,\n",
       "        17.99, 400.  ,   3.02,   1.76,   4.84,   4.77,   1.61,   2.5 ,\n",
       "         1.59,   6.49,   1.29,   5.  ,  13.99, 299.99, 379.99,  37.99,\n",
       "        18.99, 389.99,  19.9 ,   8.49,   1.75,  14.  ,   4.85,  46.99,\n",
       "       109.99, 154.99,   3.08,   2.59,   4.8 ,   1.96,  19.4 ,   3.9 ,\n",
       "         4.59,  15.46,   3.04,   4.29,   2.6 ,   3.28,   4.6 ,  28.99,\n",
       "         2.95,   2.9 ,   1.97, 200.  ,  89.99,   2.56,  30.99,   3.61,\n",
       "       394.99,   1.26,   1.2 ,   1.04])"
      ]
     },
     "execution_count": 62,
     "metadata": {},
     "output_type": "execute_result"
    }
   ],
   "source": [
    "# finding the highest priced app\n",
    "\n",
    "data['Price'].unique()"
   ]
  },
  {
   "cell_type": "code",
   "execution_count": 50,
   "id": "04f6ea56",
   "metadata": {},
   "outputs": [],
   "source": [
    "# remove $ from price column\n",
    "\n",
    "data['Price'] = data['Price'].str.replace('\\$', '', regex=True)"
   ]
  },
  {
   "cell_type": "code",
   "execution_count": 52,
   "id": "de77c30f",
   "metadata": {},
   "outputs": [],
   "source": [
    "# remove 'Everyone' from price column\n",
    "\n",
    "data = data[data.Price != 'Everyone']"
   ]
  },
  {
   "cell_type": "code",
   "execution_count": 61,
   "id": "3e3c13b1",
   "metadata": {},
   "outputs": [],
   "source": [
    "# convert to numeric\n",
    "\n",
    "data['Price'] = pd.to_numeric(data['Price'], errors='coerce')"
   ]
  },
  {
   "cell_type": "code",
   "execution_count": 25,
   "id": "cbb39e6c",
   "metadata": {},
   "outputs": [
    {
     "data": {
      "text/plain": [
       "array(['Free', 'Paid', nan, '0'], dtype=object)"
      ]
     },
     "execution_count": 25,
     "metadata": {},
     "output_type": "execute_result"
    }
   ],
   "source": [
    "data['Type'].unique()"
   ]
  },
  {
   "cell_type": "code",
   "execution_count": 9,
   "id": "b017f513",
   "metadata": {},
   "outputs": [
    {
     "data": {
      "text/plain": [
       "array(['ART_AND_DESIGN', 'AUTO_AND_VEHICLES', 'BEAUTY',\n",
       "       'BOOKS_AND_REFERENCE', 'BUSINESS', 'COMICS', 'COMMUNICATION',\n",
       "       'DATING', 'EDUCATION', 'ENTERTAINMENT', 'EVENTS', 'FINANCE',\n",
       "       'FOOD_AND_DRINK', 'HEALTH_AND_FITNESS', 'HOUSE_AND_HOME',\n",
       "       'LIBRARIES_AND_DEMO', 'LIFESTYLE', 'GAME', 'FAMILY', 'MEDICAL',\n",
       "       'SOCIAL', 'SHOPPING', 'PHOTOGRAPHY', 'SPORTS', 'TRAVEL_AND_LOCAL',\n",
       "       'TOOLS', 'PERSONALIZATION', 'PRODUCTIVITY', 'PARENTING', 'WEATHER',\n",
       "       'VIDEO_PLAYERS', 'NEWS_AND_MAGAZINES', 'MAPS_AND_NAVIGATION',\n",
       "       '1.9'], dtype=object)"
      ]
     },
     "execution_count": 9,
     "metadata": {},
     "output_type": "execute_result"
    }
   ],
   "source": [
    "# check category naming\n",
    "\n",
    "data['Category'].unique()"
   ]
  },
  {
   "cell_type": "code",
   "execution_count": 12,
   "id": "fac6d67b",
   "metadata": {},
   "outputs": [],
   "source": [
    "# remove the nan from Content Rating\n",
    "\n",
    "data = data.dropna(subset=['Category'])"
   ]
  },
  {
   "cell_type": "code",
   "execution_count": 66,
   "id": "ac12ff12",
   "metadata": {},
   "outputs": [
    {
     "data": {
      "text/plain": [
       "App         149\n",
       "Category    149\n",
       "Type        149\n",
       "Price       149\n",
       "dtype: int64"
      ]
     },
     "execution_count": 66,
     "metadata": {},
     "output_type": "execute_result"
    }
   ],
   "source": [
    "# find # of Entertainment \n",
    "\n",
    "data.loc[data.Category == 'ENTERTAINMENT'].count()"
   ]
  },
  {
   "cell_type": "markdown",
   "id": "8ee6ea52",
   "metadata": {},
   "source": [
    "Entertainment = 149"
   ]
  },
  {
   "cell_type": "code",
   "execution_count": 67,
   "id": "8dc482ad",
   "metadata": {},
   "outputs": [
    {
     "data": {
      "text/plain": [
       "App         295\n",
       "Category    295\n",
       "Type        295\n",
       "Price       295\n",
       "dtype: int64"
      ]
     },
     "execution_count": 67,
     "metadata": {},
     "output_type": "execute_result"
    }
   ],
   "source": [
    "# find # of Social\n",
    "\n",
    "data.loc[data.Category == 'SOCIAL'].count()"
   ]
  },
  {
   "cell_type": "markdown",
   "id": "f64ae4da",
   "metadata": {},
   "source": [
    "Social = 295"
   ]
  },
  {
   "cell_type": "code",
   "execution_count": 68,
   "id": "a6901187",
   "metadata": {},
   "outputs": [
    {
     "data": {
      "text/plain": [
       "App         424\n",
       "Category    424\n",
       "Type        424\n",
       "Price       424\n",
       "dtype: int64"
      ]
     },
     "execution_count": 68,
     "metadata": {},
     "output_type": "execute_result"
    }
   ],
   "source": [
    "# find # of Productivity\n",
    "\n",
    "data.loc[data.Category == 'PRODUCTIVITY'].count()"
   ]
  },
  {
   "cell_type": "markdown",
   "id": "81695fc1",
   "metadata": {},
   "source": [
    "Productivity = 424"
   ]
  },
  {
   "cell_type": "code",
   "execution_count": 69,
   "id": "d6c4c862",
   "metadata": {},
   "outputs": [
    {
     "data": {
      "text/html": [
       "<div>\n",
       "<style scoped>\n",
       "    .dataframe tbody tr th:only-of-type {\n",
       "        vertical-align: middle;\n",
       "    }\n",
       "\n",
       "    .dataframe tbody tr th {\n",
       "        vertical-align: top;\n",
       "    }\n",
       "\n",
       "    .dataframe thead th {\n",
       "        text-align: right;\n",
       "    }\n",
       "</style>\n",
       "<table border=\"1\" class=\"dataframe\">\n",
       "  <thead>\n",
       "    <tr style=\"text-align: right;\">\n",
       "      <th></th>\n",
       "      <th>App</th>\n",
       "      <th>Category</th>\n",
       "      <th>Type</th>\n",
       "      <th>Price</th>\n",
       "    </tr>\n",
       "  </thead>\n",
       "  <tbody>\n",
       "    <tr>\n",
       "      <th>855</th>\n",
       "      <td>Netflix</td>\n",
       "      <td>ENTERTAINMENT</td>\n",
       "      <td>Free</td>\n",
       "      <td>0.0</td>\n",
       "    </tr>\n",
       "    <tr>\n",
       "      <th>856</th>\n",
       "      <td>Complete Spanish Movies</td>\n",
       "      <td>ENTERTAINMENT</td>\n",
       "      <td>Free</td>\n",
       "      <td>0.0</td>\n",
       "    </tr>\n",
       "    <tr>\n",
       "      <th>857</th>\n",
       "      <td>Pluto TV - It’s Free TV</td>\n",
       "      <td>ENTERTAINMENT</td>\n",
       "      <td>Free</td>\n",
       "      <td>0.0</td>\n",
       "    </tr>\n",
       "    <tr>\n",
       "      <th>858</th>\n",
       "      <td>Tubi TV - Free Movies &amp; TV</td>\n",
       "      <td>ENTERTAINMENT</td>\n",
       "      <td>Free</td>\n",
       "      <td>0.0</td>\n",
       "    </tr>\n",
       "    <tr>\n",
       "      <th>859</th>\n",
       "      <td>YouTube Kids</td>\n",
       "      <td>ENTERTAINMENT</td>\n",
       "      <td>Free</td>\n",
       "      <td>0.0</td>\n",
       "    </tr>\n",
       "  </tbody>\n",
       "</table>\n",
       "</div>"
      ],
      "text/plain": [
       "                            App       Category  Type  Price\n",
       "855                     Netflix  ENTERTAINMENT  Free    0.0\n",
       "856     Complete Spanish Movies  ENTERTAINMENT  Free    0.0\n",
       "857     Pluto TV - It’s Free TV  ENTERTAINMENT  Free    0.0\n",
       "858  Tubi TV - Free Movies & TV  ENTERTAINMENT  Free    0.0\n",
       "859                YouTube Kids  ENTERTAINMENT  Free    0.0"
      ]
     },
     "execution_count": 69,
     "metadata": {},
     "output_type": "execute_result"
    }
   ],
   "source": [
    "# Entertainment Free vs. Paid\n",
    "\n",
    "entData = data.loc[data['Category'] == 'ENTERTAINMENT']\n",
    "entData.head()"
   ]
  },
  {
   "cell_type": "code",
   "execution_count": 70,
   "id": "f520275b",
   "metadata": {},
   "outputs": [
    {
     "data": {
      "text/html": [
       "<div>\n",
       "<style scoped>\n",
       "    .dataframe tbody tr th:only-of-type {\n",
       "        vertical-align: middle;\n",
       "    }\n",
       "\n",
       "    .dataframe tbody tr th {\n",
       "        vertical-align: top;\n",
       "    }\n",
       "\n",
       "    .dataframe thead th {\n",
       "        text-align: right;\n",
       "    }\n",
       "</style>\n",
       "<table border=\"1\" class=\"dataframe\">\n",
       "  <thead>\n",
       "    <tr style=\"text-align: right;\">\n",
       "      <th></th>\n",
       "      <th>App</th>\n",
       "      <th>Category</th>\n",
       "      <th>Type</th>\n",
       "      <th>Price</th>\n",
       "    </tr>\n",
       "  </thead>\n",
       "  <tbody>\n",
       "    <tr>\n",
       "      <th>855</th>\n",
       "      <td>Netflix</td>\n",
       "      <td>ENTERTAINMENT</td>\n",
       "      <td>Free</td>\n",
       "      <td>0.0</td>\n",
       "    </tr>\n",
       "    <tr>\n",
       "      <th>856</th>\n",
       "      <td>Complete Spanish Movies</td>\n",
       "      <td>ENTERTAINMENT</td>\n",
       "      <td>Free</td>\n",
       "      <td>0.0</td>\n",
       "    </tr>\n",
       "    <tr>\n",
       "      <th>857</th>\n",
       "      <td>Pluto TV - It’s Free TV</td>\n",
       "      <td>ENTERTAINMENT</td>\n",
       "      <td>Free</td>\n",
       "      <td>0.0</td>\n",
       "    </tr>\n",
       "    <tr>\n",
       "      <th>858</th>\n",
       "      <td>Tubi TV - Free Movies &amp; TV</td>\n",
       "      <td>ENTERTAINMENT</td>\n",
       "      <td>Free</td>\n",
       "      <td>0.0</td>\n",
       "    </tr>\n",
       "    <tr>\n",
       "      <th>859</th>\n",
       "      <td>YouTube Kids</td>\n",
       "      <td>ENTERTAINMENT</td>\n",
       "      <td>Free</td>\n",
       "      <td>0.0</td>\n",
       "    </tr>\n",
       "    <tr>\n",
       "      <th>...</th>\n",
       "      <td>...</td>\n",
       "      <td>...</td>\n",
       "      <td>...</td>\n",
       "      <td>...</td>\n",
       "    </tr>\n",
       "    <tr>\n",
       "      <th>998</th>\n",
       "      <td>LOL Pics (Funny Pictures)</td>\n",
       "      <td>ENTERTAINMENT</td>\n",
       "      <td>Free</td>\n",
       "      <td>0.0</td>\n",
       "    </tr>\n",
       "    <tr>\n",
       "      <th>999</th>\n",
       "      <td>Meme Creator</td>\n",
       "      <td>ENTERTAINMENT</td>\n",
       "      <td>Free</td>\n",
       "      <td>0.0</td>\n",
       "    </tr>\n",
       "    <tr>\n",
       "      <th>1000</th>\n",
       "      <td>Imgur: Find funny GIFs, memes &amp; watch viral vi...</td>\n",
       "      <td>ENTERTAINMENT</td>\n",
       "      <td>Free</td>\n",
       "      <td>0.0</td>\n",
       "    </tr>\n",
       "    <tr>\n",
       "      <th>1002</th>\n",
       "      <td>SketchBook - draw and paint</td>\n",
       "      <td>ENTERTAINMENT</td>\n",
       "      <td>Free</td>\n",
       "      <td>0.0</td>\n",
       "    </tr>\n",
       "    <tr>\n",
       "      <th>1003</th>\n",
       "      <td>Colorfy: Coloring Book for Adults - Free</td>\n",
       "      <td>ENTERTAINMENT</td>\n",
       "      <td>Free</td>\n",
       "      <td>0.0</td>\n",
       "    </tr>\n",
       "  </tbody>\n",
       "</table>\n",
       "<p>147 rows × 4 columns</p>\n",
       "</div>"
      ],
      "text/plain": [
       "                                                    App       Category  Type  \\\n",
       "855                                             Netflix  ENTERTAINMENT  Free   \n",
       "856                             Complete Spanish Movies  ENTERTAINMENT  Free   \n",
       "857                             Pluto TV - It’s Free TV  ENTERTAINMENT  Free   \n",
       "858                          Tubi TV - Free Movies & TV  ENTERTAINMENT  Free   \n",
       "859                                        YouTube Kids  ENTERTAINMENT  Free   \n",
       "...                                                 ...            ...   ...   \n",
       "998                           LOL Pics (Funny Pictures)  ENTERTAINMENT  Free   \n",
       "999                                        Meme Creator  ENTERTAINMENT  Free   \n",
       "1000  Imgur: Find funny GIFs, memes & watch viral vi...  ENTERTAINMENT  Free   \n",
       "1002                        SketchBook - draw and paint  ENTERTAINMENT  Free   \n",
       "1003           Colorfy: Coloring Book for Adults - Free  ENTERTAINMENT  Free   \n",
       "\n",
       "      Price  \n",
       "855     0.0  \n",
       "856     0.0  \n",
       "857     0.0  \n",
       "858     0.0  \n",
       "859     0.0  \n",
       "...     ...  \n",
       "998     0.0  \n",
       "999     0.0  \n",
       "1000    0.0  \n",
       "1002    0.0  \n",
       "1003    0.0  \n",
       "\n",
       "[147 rows x 4 columns]"
      ]
     },
     "execution_count": 70,
     "metadata": {},
     "output_type": "execute_result"
    }
   ],
   "source": [
    "entData.loc[entData['Type'] == 'Free']"
   ]
  },
  {
   "cell_type": "code",
   "execution_count": 71,
   "id": "63a67898",
   "metadata": {},
   "outputs": [
    {
     "data": {
      "text/html": [
       "<div>\n",
       "<style scoped>\n",
       "    .dataframe tbody tr th:only-of-type {\n",
       "        vertical-align: middle;\n",
       "    }\n",
       "\n",
       "    .dataframe tbody tr th {\n",
       "        vertical-align: top;\n",
       "    }\n",
       "\n",
       "    .dataframe thead th {\n",
       "        text-align: right;\n",
       "    }\n",
       "</style>\n",
       "<table border=\"1\" class=\"dataframe\">\n",
       "  <thead>\n",
       "    <tr style=\"text-align: right;\">\n",
       "      <th></th>\n",
       "      <th>App</th>\n",
       "      <th>Category</th>\n",
       "      <th>Type</th>\n",
       "      <th>Price</th>\n",
       "    </tr>\n",
       "  </thead>\n",
       "  <tbody>\n",
       "    <tr>\n",
       "      <th>995</th>\n",
       "      <td>My Talking Pet</td>\n",
       "      <td>ENTERTAINMENT</td>\n",
       "      <td>Paid</td>\n",
       "      <td>4.99</td>\n",
       "    </tr>\n",
       "    <tr>\n",
       "      <th>1001</th>\n",
       "      <td>Meme Generator</td>\n",
       "      <td>ENTERTAINMENT</td>\n",
       "      <td>Paid</td>\n",
       "      <td>2.99</td>\n",
       "    </tr>\n",
       "  </tbody>\n",
       "</table>\n",
       "</div>"
      ],
      "text/plain": [
       "                 App       Category  Type  Price\n",
       "995   My Talking Pet  ENTERTAINMENT  Paid   4.99\n",
       "1001  Meme Generator  ENTERTAINMENT  Paid   2.99"
      ]
     },
     "execution_count": 71,
     "metadata": {},
     "output_type": "execute_result"
    }
   ],
   "source": [
    "entData.loc[entData['Type'] == 'Paid']"
   ]
  },
  {
   "cell_type": "markdown",
   "id": "ce11ab47",
   "metadata": {},
   "source": [
    "Entertainment \n",
    "Free = 147\n",
    "Paid = 2"
   ]
  },
  {
   "cell_type": "code",
   "execution_count": 72,
   "id": "875a6737",
   "metadata": {},
   "outputs": [
    {
     "data": {
      "text/html": [
       "<div>\n",
       "<style scoped>\n",
       "    .dataframe tbody tr th:only-of-type {\n",
       "        vertical-align: middle;\n",
       "    }\n",
       "\n",
       "    .dataframe tbody tr th {\n",
       "        vertical-align: top;\n",
       "    }\n",
       "\n",
       "    .dataframe thead th {\n",
       "        text-align: right;\n",
       "    }\n",
       "</style>\n",
       "<table border=\"1\" class=\"dataframe\">\n",
       "  <thead>\n",
       "    <tr style=\"text-align: right;\">\n",
       "      <th></th>\n",
       "      <th>App</th>\n",
       "      <th>Category</th>\n",
       "      <th>Type</th>\n",
       "      <th>Price</th>\n",
       "    </tr>\n",
       "  </thead>\n",
       "  <tbody>\n",
       "    <tr>\n",
       "      <th>2544</th>\n",
       "      <td>Facebook</td>\n",
       "      <td>SOCIAL</td>\n",
       "      <td>Free</td>\n",
       "      <td>0.0</td>\n",
       "    </tr>\n",
       "    <tr>\n",
       "      <th>2545</th>\n",
       "      <td>Instagram</td>\n",
       "      <td>SOCIAL</td>\n",
       "      <td>Free</td>\n",
       "      <td>0.0</td>\n",
       "    </tr>\n",
       "    <tr>\n",
       "      <th>2546</th>\n",
       "      <td>Facebook Lite</td>\n",
       "      <td>SOCIAL</td>\n",
       "      <td>Free</td>\n",
       "      <td>0.0</td>\n",
       "    </tr>\n",
       "    <tr>\n",
       "      <th>2547</th>\n",
       "      <td>Messages, Text and Video Chat for Messenger</td>\n",
       "      <td>SOCIAL</td>\n",
       "      <td>Free</td>\n",
       "      <td>0.0</td>\n",
       "    </tr>\n",
       "    <tr>\n",
       "      <th>2548</th>\n",
       "      <td>Tumblr</td>\n",
       "      <td>SOCIAL</td>\n",
       "      <td>Free</td>\n",
       "      <td>0.0</td>\n",
       "    </tr>\n",
       "  </tbody>\n",
       "</table>\n",
       "</div>"
      ],
      "text/plain": [
       "                                              App Category  Type  Price\n",
       "2544                                     Facebook   SOCIAL  Free    0.0\n",
       "2545                                    Instagram   SOCIAL  Free    0.0\n",
       "2546                                Facebook Lite   SOCIAL  Free    0.0\n",
       "2547  Messages, Text and Video Chat for Messenger   SOCIAL  Free    0.0\n",
       "2548                                       Tumblr   SOCIAL  Free    0.0"
      ]
     },
     "execution_count": 72,
     "metadata": {},
     "output_type": "execute_result"
    }
   ],
   "source": [
    "# Social Free vs. Paid\n",
    "\n",
    "socData = data.loc[data['Category'] == 'SOCIAL']\n",
    "socData.head()"
   ]
  },
  {
   "cell_type": "code",
   "execution_count": 32,
   "id": "6d77b72d",
   "metadata": {},
   "outputs": [
    {
     "data": {
      "text/html": [
       "<div>\n",
       "<style scoped>\n",
       "    .dataframe tbody tr th:only-of-type {\n",
       "        vertical-align: middle;\n",
       "    }\n",
       "\n",
       "    .dataframe tbody tr th {\n",
       "        vertical-align: top;\n",
       "    }\n",
       "\n",
       "    .dataframe thead th {\n",
       "        text-align: right;\n",
       "    }\n",
       "</style>\n",
       "<table border=\"1\" class=\"dataframe\">\n",
       "  <thead>\n",
       "    <tr style=\"text-align: right;\">\n",
       "      <th></th>\n",
       "      <th>App</th>\n",
       "      <th>Category</th>\n",
       "      <th>Rating</th>\n",
       "      <th>Reviews</th>\n",
       "      <th>Size</th>\n",
       "      <th>Installs</th>\n",
       "      <th>Type</th>\n",
       "      <th>Price</th>\n",
       "      <th>Content Rating</th>\n",
       "      <th>Genres</th>\n",
       "      <th>Last Updated</th>\n",
       "      <th>Current Ver</th>\n",
       "      <th>Android Ver</th>\n",
       "    </tr>\n",
       "  </thead>\n",
       "  <tbody>\n",
       "    <tr>\n",
       "      <th>2544</th>\n",
       "      <td>Facebook</td>\n",
       "      <td>SOCIAL</td>\n",
       "      <td>4.1</td>\n",
       "      <td>78158306</td>\n",
       "      <td>Varies with device</td>\n",
       "      <td>1,000,000,000+</td>\n",
       "      <td>Free</td>\n",
       "      <td>0</td>\n",
       "      <td>Teen</td>\n",
       "      <td>Social</td>\n",
       "      <td>August 3, 2018</td>\n",
       "      <td>Varies with device</td>\n",
       "      <td>Varies with device</td>\n",
       "    </tr>\n",
       "    <tr>\n",
       "      <th>2545</th>\n",
       "      <td>Instagram</td>\n",
       "      <td>SOCIAL</td>\n",
       "      <td>4.5</td>\n",
       "      <td>66577313</td>\n",
       "      <td>Varies with device</td>\n",
       "      <td>1,000,000,000+</td>\n",
       "      <td>Free</td>\n",
       "      <td>0</td>\n",
       "      <td>Teen</td>\n",
       "      <td>Social</td>\n",
       "      <td>July 31, 2018</td>\n",
       "      <td>Varies with device</td>\n",
       "      <td>Varies with device</td>\n",
       "    </tr>\n",
       "    <tr>\n",
       "      <th>2546</th>\n",
       "      <td>Facebook Lite</td>\n",
       "      <td>SOCIAL</td>\n",
       "      <td>4.3</td>\n",
       "      <td>8606259</td>\n",
       "      <td>Varies with device</td>\n",
       "      <td>500,000,000+</td>\n",
       "      <td>Free</td>\n",
       "      <td>0</td>\n",
       "      <td>Teen</td>\n",
       "      <td>Social</td>\n",
       "      <td>August 1, 2018</td>\n",
       "      <td>Varies with device</td>\n",
       "      <td>Varies with device</td>\n",
       "    </tr>\n",
       "    <tr>\n",
       "      <th>2547</th>\n",
       "      <td>Messages, Text and Video Chat for Messenger</td>\n",
       "      <td>SOCIAL</td>\n",
       "      <td>4.4</td>\n",
       "      <td>49173</td>\n",
       "      <td>4.0M</td>\n",
       "      <td>10,000,000+</td>\n",
       "      <td>Free</td>\n",
       "      <td>0</td>\n",
       "      <td>Everyone</td>\n",
       "      <td>Social</td>\n",
       "      <td>June 4, 2018</td>\n",
       "      <td>1.24</td>\n",
       "      <td>4.1 and up</td>\n",
       "    </tr>\n",
       "    <tr>\n",
       "      <th>2548</th>\n",
       "      <td>Tumblr</td>\n",
       "      <td>SOCIAL</td>\n",
       "      <td>4.4</td>\n",
       "      <td>2955326</td>\n",
       "      <td>Varies with device</td>\n",
       "      <td>100,000,000+</td>\n",
       "      <td>Free</td>\n",
       "      <td>0</td>\n",
       "      <td>Mature 17+</td>\n",
       "      <td>Social</td>\n",
       "      <td>August 1, 2018</td>\n",
       "      <td>Varies with device</td>\n",
       "      <td>Varies with device</td>\n",
       "    </tr>\n",
       "    <tr>\n",
       "      <th>...</th>\n",
       "      <td>...</td>\n",
       "      <td>...</td>\n",
       "      <td>...</td>\n",
       "      <td>...</td>\n",
       "      <td>...</td>\n",
       "      <td>...</td>\n",
       "      <td>...</td>\n",
       "      <td>...</td>\n",
       "      <td>...</td>\n",
       "      <td>...</td>\n",
       "      <td>...</td>\n",
       "      <td>...</td>\n",
       "      <td>...</td>\n",
       "    </tr>\n",
       "    <tr>\n",
       "      <th>10714</th>\n",
       "      <td>FunForMobile Ringtones &amp; Chat</td>\n",
       "      <td>SOCIAL</td>\n",
       "      <td>4.4</td>\n",
       "      <td>68358</td>\n",
       "      <td>7.2M</td>\n",
       "      <td>5,000,000+</td>\n",
       "      <td>Free</td>\n",
       "      <td>0</td>\n",
       "      <td>Mature 17+</td>\n",
       "      <td>Social</td>\n",
       "      <td>May 7, 2016</td>\n",
       "      <td>3.22</td>\n",
       "      <td>4.1 and up</td>\n",
       "    </tr>\n",
       "    <tr>\n",
       "      <th>10765</th>\n",
       "      <td>Chat For Strangers - Video Chat</td>\n",
       "      <td>SOCIAL</td>\n",
       "      <td>3.4</td>\n",
       "      <td>622</td>\n",
       "      <td>Varies with device</td>\n",
       "      <td>100,000+</td>\n",
       "      <td>Free</td>\n",
       "      <td>0</td>\n",
       "      <td>Mature 17+</td>\n",
       "      <td>Social</td>\n",
       "      <td>May 23, 2018</td>\n",
       "      <td>Varies with device</td>\n",
       "      <td>Varies with device</td>\n",
       "    </tr>\n",
       "    <tr>\n",
       "      <th>10799</th>\n",
       "      <td>Fr Daoud Lamei</td>\n",
       "      <td>SOCIAL</td>\n",
       "      <td>4.7</td>\n",
       "      <td>2036</td>\n",
       "      <td>6.8M</td>\n",
       "      <td>100,000+</td>\n",
       "      <td>Free</td>\n",
       "      <td>0</td>\n",
       "      <td>Everyone</td>\n",
       "      <td>Social</td>\n",
       "      <td>May 20, 2018</td>\n",
       "      <td>1.72</td>\n",
       "      <td>4.0.3 and up</td>\n",
       "    </tr>\n",
       "    <tr>\n",
       "      <th>10825</th>\n",
       "      <td>Naruto &amp; Boruto FR</td>\n",
       "      <td>SOCIAL</td>\n",
       "      <td>NaN</td>\n",
       "      <td>7</td>\n",
       "      <td>7.7M</td>\n",
       "      <td>100+</td>\n",
       "      <td>Free</td>\n",
       "      <td>0</td>\n",
       "      <td>Teen</td>\n",
       "      <td>Social</td>\n",
       "      <td>February 2, 2018</td>\n",
       "      <td>1.0</td>\n",
       "      <td>4.0 and up</td>\n",
       "    </tr>\n",
       "    <tr>\n",
       "      <th>10826</th>\n",
       "      <td>Frim: get new friends on local chat rooms</td>\n",
       "      <td>SOCIAL</td>\n",
       "      <td>4.0</td>\n",
       "      <td>88486</td>\n",
       "      <td>Varies with device</td>\n",
       "      <td>5,000,000+</td>\n",
       "      <td>Free</td>\n",
       "      <td>0</td>\n",
       "      <td>Mature 17+</td>\n",
       "      <td>Social</td>\n",
       "      <td>March 23, 2018</td>\n",
       "      <td>Varies with device</td>\n",
       "      <td>Varies with device</td>\n",
       "    </tr>\n",
       "  </tbody>\n",
       "</table>\n",
       "<p>292 rows × 13 columns</p>\n",
       "</div>"
      ],
      "text/plain": [
       "                                               App Category  Rating   Reviews  \\\n",
       "2544                                      Facebook   SOCIAL     4.1  78158306   \n",
       "2545                                     Instagram   SOCIAL     4.5  66577313   \n",
       "2546                                 Facebook Lite   SOCIAL     4.3   8606259   \n",
       "2547   Messages, Text and Video Chat for Messenger   SOCIAL     4.4     49173   \n",
       "2548                                        Tumblr   SOCIAL     4.4   2955326   \n",
       "...                                            ...      ...     ...       ...   \n",
       "10714                FunForMobile Ringtones & Chat   SOCIAL     4.4     68358   \n",
       "10765              Chat For Strangers - Video Chat   SOCIAL     3.4       622   \n",
       "10799                               Fr Daoud Lamei   SOCIAL     4.7      2036   \n",
       "10825                           Naruto & Boruto FR   SOCIAL     NaN         7   \n",
       "10826    Frim: get new friends on local chat rooms   SOCIAL     4.0     88486   \n",
       "\n",
       "                     Size        Installs  Type Price Content Rating  Genres  \\\n",
       "2544   Varies with device  1,000,000,000+  Free     0           Teen  Social   \n",
       "2545   Varies with device  1,000,000,000+  Free     0           Teen  Social   \n",
       "2546   Varies with device    500,000,000+  Free     0           Teen  Social   \n",
       "2547                 4.0M     10,000,000+  Free     0       Everyone  Social   \n",
       "2548   Varies with device    100,000,000+  Free     0     Mature 17+  Social   \n",
       "...                   ...             ...   ...   ...            ...     ...   \n",
       "10714                7.2M      5,000,000+  Free     0     Mature 17+  Social   \n",
       "10765  Varies with device        100,000+  Free     0     Mature 17+  Social   \n",
       "10799                6.8M        100,000+  Free     0       Everyone  Social   \n",
       "10825                7.7M            100+  Free     0           Teen  Social   \n",
       "10826  Varies with device      5,000,000+  Free     0     Mature 17+  Social   \n",
       "\n",
       "           Last Updated         Current Ver         Android Ver  \n",
       "2544     August 3, 2018  Varies with device  Varies with device  \n",
       "2545      July 31, 2018  Varies with device  Varies with device  \n",
       "2546     August 1, 2018  Varies with device  Varies with device  \n",
       "2547       June 4, 2018                1.24          4.1 and up  \n",
       "2548     August 1, 2018  Varies with device  Varies with device  \n",
       "...                 ...                 ...                 ...  \n",
       "10714       May 7, 2016                3.22          4.1 and up  \n",
       "10765      May 23, 2018  Varies with device  Varies with device  \n",
       "10799      May 20, 2018                1.72        4.0.3 and up  \n",
       "10825  February 2, 2018                 1.0          4.0 and up  \n",
       "10826    March 23, 2018  Varies with device  Varies with device  \n",
       "\n",
       "[292 rows x 13 columns]"
      ]
     },
     "execution_count": 32,
     "metadata": {},
     "output_type": "execute_result"
    }
   ],
   "source": [
    "#free social \n",
    "\n",
    "socData.loc[socData['Type'] == 'Free']"
   ]
  },
  {
   "cell_type": "code",
   "execution_count": 73,
   "id": "47e2cbbf",
   "metadata": {},
   "outputs": [
    {
     "data": {
      "text/html": [
       "<div>\n",
       "<style scoped>\n",
       "    .dataframe tbody tr th:only-of-type {\n",
       "        vertical-align: middle;\n",
       "    }\n",
       "\n",
       "    .dataframe tbody tr th {\n",
       "        vertical-align: top;\n",
       "    }\n",
       "\n",
       "    .dataframe thead th {\n",
       "        text-align: right;\n",
       "    }\n",
       "</style>\n",
       "<table border=\"1\" class=\"dataframe\">\n",
       "  <thead>\n",
       "    <tr style=\"text-align: right;\">\n",
       "      <th></th>\n",
       "      <th>App</th>\n",
       "      <th>Category</th>\n",
       "      <th>Type</th>\n",
       "      <th>Price</th>\n",
       "    </tr>\n",
       "  </thead>\n",
       "  <tbody>\n",
       "    <tr>\n",
       "      <th>4721</th>\n",
       "      <td>W-History Standalone</td>\n",
       "      <td>SOCIAL</td>\n",
       "      <td>Paid</td>\n",
       "      <td>0.99</td>\n",
       "    </tr>\n",
       "    <tr>\n",
       "      <th>4971</th>\n",
       "      <td>WhatsFake Pro (Ad free)</td>\n",
       "      <td>SOCIAL</td>\n",
       "      <td>Paid</td>\n",
       "      <td>0.99</td>\n",
       "    </tr>\n",
       "    <tr>\n",
       "      <th>5307</th>\n",
       "      <td>Ak Parti Yardım Toplama</td>\n",
       "      <td>SOCIAL</td>\n",
       "      <td>Paid</td>\n",
       "      <td>13.99</td>\n",
       "    </tr>\n",
       "  </tbody>\n",
       "</table>\n",
       "</div>"
      ],
      "text/plain": [
       "                          App Category  Type  Price\n",
       "4721     W-History Standalone   SOCIAL  Paid   0.99\n",
       "4971  WhatsFake Pro (Ad free)   SOCIAL  Paid   0.99\n",
       "5307  Ak Parti Yardım Toplama   SOCIAL  Paid  13.99"
      ]
     },
     "execution_count": 73,
     "metadata": {},
     "output_type": "execute_result"
    }
   ],
   "source": [
    "# Paid \n",
    "\n",
    "socData.loc[socData['Type'] == 'Paid']"
   ]
  },
  {
   "cell_type": "markdown",
   "id": "4b1125f3",
   "metadata": {},
   "source": [
    "Social\n",
    "\n",
    "Free = 292\n",
    "Paid = 3"
   ]
  },
  {
   "cell_type": "code",
   "execution_count": 74,
   "id": "1697675d",
   "metadata": {},
   "outputs": [
    {
     "data": {
      "text/html": [
       "<div>\n",
       "<style scoped>\n",
       "    .dataframe tbody tr th:only-of-type {\n",
       "        vertical-align: middle;\n",
       "    }\n",
       "\n",
       "    .dataframe tbody tr th {\n",
       "        vertical-align: top;\n",
       "    }\n",
       "\n",
       "    .dataframe thead th {\n",
       "        text-align: right;\n",
       "    }\n",
       "</style>\n",
       "<table border=\"1\" class=\"dataframe\">\n",
       "  <thead>\n",
       "    <tr style=\"text-align: right;\">\n",
       "      <th></th>\n",
       "      <th>App</th>\n",
       "      <th>Category</th>\n",
       "      <th>Type</th>\n",
       "      <th>Price</th>\n",
       "    </tr>\n",
       "  </thead>\n",
       "  <tbody>\n",
       "    <tr>\n",
       "      <th>3450</th>\n",
       "      <td>Microsoft Word</td>\n",
       "      <td>PRODUCTIVITY</td>\n",
       "      <td>Free</td>\n",
       "      <td>0.0</td>\n",
       "    </tr>\n",
       "    <tr>\n",
       "      <th>3451</th>\n",
       "      <td>All-In-One Toolbox: Cleaner, Booster, App Manager</td>\n",
       "      <td>PRODUCTIVITY</td>\n",
       "      <td>Free</td>\n",
       "      <td>0.0</td>\n",
       "    </tr>\n",
       "    <tr>\n",
       "      <th>3452</th>\n",
       "      <td>Adobe Acrobat Reader</td>\n",
       "      <td>PRODUCTIVITY</td>\n",
       "      <td>Free</td>\n",
       "      <td>0.0</td>\n",
       "    </tr>\n",
       "    <tr>\n",
       "      <th>3453</th>\n",
       "      <td>AVG Cleaner – Speed, Battery &amp; Memory Booster</td>\n",
       "      <td>PRODUCTIVITY</td>\n",
       "      <td>Free</td>\n",
       "      <td>0.0</td>\n",
       "    </tr>\n",
       "    <tr>\n",
       "      <th>3454</th>\n",
       "      <td>Google Drive</td>\n",
       "      <td>PRODUCTIVITY</td>\n",
       "      <td>Free</td>\n",
       "      <td>0.0</td>\n",
       "    </tr>\n",
       "  </tbody>\n",
       "</table>\n",
       "</div>"
      ],
      "text/plain": [
       "                                                    App      Category  Type  \\\n",
       "3450                                     Microsoft Word  PRODUCTIVITY  Free   \n",
       "3451  All-In-One Toolbox: Cleaner, Booster, App Manager  PRODUCTIVITY  Free   \n",
       "3452                               Adobe Acrobat Reader  PRODUCTIVITY  Free   \n",
       "3453      AVG Cleaner – Speed, Battery & Memory Booster  PRODUCTIVITY  Free   \n",
       "3454                                       Google Drive  PRODUCTIVITY  Free   \n",
       "\n",
       "      Price  \n",
       "3450    0.0  \n",
       "3451    0.0  \n",
       "3452    0.0  \n",
       "3453    0.0  \n",
       "3454    0.0  "
      ]
     },
     "execution_count": 74,
     "metadata": {},
     "output_type": "execute_result"
    }
   ],
   "source": [
    "# Productivity\n",
    "\n",
    "prodData = data.loc[data['Category'] == 'PRODUCTIVITY']\n",
    "prodData.head()"
   ]
  },
  {
   "cell_type": "code",
   "execution_count": 75,
   "id": "db2cdf6c",
   "metadata": {},
   "outputs": [
    {
     "data": {
      "text/plain": [
       "App         396\n",
       "Category    396\n",
       "Type        396\n",
       "Price       396\n",
       "dtype: int64"
      ]
     },
     "execution_count": 75,
     "metadata": {},
     "output_type": "execute_result"
    }
   ],
   "source": [
    "# Productivity free\n",
    "\n",
    "prodData.loc[prodData['Type'] == 'Free'].count()"
   ]
  },
  {
   "cell_type": "code",
   "execution_count": 76,
   "id": "c1d5fe36",
   "metadata": {},
   "outputs": [
    {
     "data": {
      "text/plain": [
       "App         28\n",
       "Category    28\n",
       "Type        28\n",
       "Price       28\n",
       "dtype: int64"
      ]
     },
     "execution_count": 76,
     "metadata": {},
     "output_type": "execute_result"
    }
   ],
   "source": [
    "# Productivity Paid\n",
    "\n",
    "prodData.loc[prodData['Type'] == 'Paid'].count()"
   ]
  },
  {
   "cell_type": "markdown",
   "id": "cb80d493",
   "metadata": {},
   "source": [
    "Productivity\n",
    "\n",
    "Free = 396\n",
    "Paid = 28"
   ]
  },
  {
   "cell_type": "code",
   "execution_count": 82,
   "id": "11b4e391",
   "metadata": {},
   "outputs": [],
   "source": [
    "# get all three columns together for visuals\n",
    "\n",
    "visualize = data.loc[((data['Category'] =='ENTERTAINMENT') | (data['Category'] == 'SOCIAL') | (data['Category'] == 'PRODUCTIVITY'))]"
   ]
  },
  {
   "cell_type": "code",
   "execution_count": 83,
   "id": "75c40344",
   "metadata": {},
   "outputs": [
    {
     "data": {
      "text/plain": [
       "<Axes: xlabel='Category', ylabel='Count'>"
      ]
     },
     "execution_count": 83,
     "metadata": {},
     "output_type": "execute_result"
    },
    {
     "data": {
      "image/png": "[encoded data removed]",
      "text/plain": [
       "<Figure size 640x480 with 1 Axes>"
      ]
     },
     "metadata": {},
     "output_type": "display_data"
    }
   ],
   "source": [
    "# Apps by Category\n",
    "\n",
    "sns.histplot(data=visualize, x ='Category')"
   ]
  },
  {
   "cell_type": "code",
   "execution_count": 88,
   "id": "783db968",
   "metadata": {},
   "outputs": [
    {
     "data": {
      "text/plain": [
       "App               myGrow\n",
       "Category    PRODUCTIVITY\n",
       "Type                Paid\n",
       "Price             154.99\n",
       "dtype: object"
      ]
     },
     "execution_count": 88,
     "metadata": {},
     "output_type": "execute_result"
    }
   ],
   "source": [
    "# Finding Highest Price Productivity\n",
    "\n",
    "prodData.loc[prodData['Type'] == 'Paid'].max()"
   ]
  },
  {
   "cell_type": "code",
   "execution_count": 87,
   "id": "0702b6f3",
   "metadata": {},
   "outputs": [
    {
     "data": {
      "text/plain": [
       "App         ACCDB MDB DB Manager Pro - Editor for MS Access\n",
       "Category                                       PRODUCTIVITY\n",
       "Type                                                   Paid\n",
       "Price                                                  0.99\n",
       "dtype: object"
      ]
     },
     "execution_count": 87,
     "metadata": {},
     "output_type": "execute_result"
    }
   ],
   "source": [
    "# Lowest Price Productivity\n",
    "\n",
    "prodData.loc[prodData['Type'] == 'Paid'].min()"
   ]
  },
  {
   "cell_type": "code",
   "execution_count": 89,
   "id": "dea84bca",
   "metadata": {},
   "outputs": [
    {
     "data": {
      "text/plain": [
       "App         WhatsFake Pro (Ad free)\n",
       "Category                     SOCIAL\n",
       "Type                           Paid\n",
       "Price                         13.99\n",
       "dtype: object"
      ]
     },
     "execution_count": 89,
     "metadata": {},
     "output_type": "execute_result"
    }
   ],
   "source": [
    "# Highest Price Social\n",
    "\n",
    "socData.loc[socData['Type'] == 'Paid'].max()"
   ]
  },
  {
   "cell_type": "code",
   "execution_count": 90,
   "id": "6f74c3ee",
   "metadata": {},
   "outputs": [
    {
     "data": {
      "text/plain": [
       "App         Ak Parti Yardım Toplama\n",
       "Category                     SOCIAL\n",
       "Type                           Paid\n",
       "Price                          0.99\n",
       "dtype: object"
      ]
     },
     "execution_count": 90,
     "metadata": {},
     "output_type": "execute_result"
    }
   ],
   "source": [
    "# Lowest Price Social\n",
    "\n",
    "socData.loc[socData['Type'] == 'Paid'].min()"
   ]
  },
  {
   "cell_type": "code",
   "execution_count": 91,
   "id": "9af2f9f0",
   "metadata": {},
   "outputs": [
    {
     "data": {
      "text/plain": [
       "App         My Talking Pet\n",
       "Category     ENTERTAINMENT\n",
       "Type                  Paid\n",
       "Price                 4.99\n",
       "dtype: object"
      ]
     },
     "execution_count": 91,
     "metadata": {},
     "output_type": "execute_result"
    }
   ],
   "source": [
    "# Highest Price Entertainment\n",
    "\n",
    "entData.loc[entData['Type'] == 'Paid'].max()"
   ]
  },
  {
   "cell_type": "code",
   "execution_count": 92,
   "id": "297d2558",
   "metadata": {},
   "outputs": [
    {
     "data": {
      "text/plain": [
       "App         Meme Generator\n",
       "Category     ENTERTAINMENT\n",
       "Type                  Paid\n",
       "Price                 2.99\n",
       "dtype: object"
      ]
     },
     "execution_count": 92,
     "metadata": {},
     "output_type": "execute_result"
    }
   ],
   "source": [
    "#Lowest Price Entertainment\n",
    "\n",
    "entData.loc[entData['Type'] == 'Paid'].min()"
   ]
  },
  {
   "cell_type": "markdown",
   "id": "b1f19d6d",
   "metadata": {},
   "source": [
    "Highest Price App\n",
    "\n",
    "Productivity = myGrow for $154.99\n",
    "Social = WhatsFake Pro for $13.99\n",
    "Entertainment = My Talking Pet for $4.99"
   ]
  },
  {
   "cell_type": "markdown",
   "id": "f333e497",
   "metadata": {},
   "source": [
    "Lowest Price App\n",
    "\n",
    "Productivity = ACCDB MDB DB Manager Pro for $0.99\n",
    "Social = Ak Parti Yardim Toplama for $0.99\n",
    "Entertainment = Meme Generator for $2.99"
   ]
  }
 ],
 "metadata": {
  "kernelspec": {
   "display_name": "Python 3 (ipykernel)",
   "language": "python",
   "name": "python3"
  },
  "language_info": {
   "codemirror_mode": {
    "name": "ipython",
    "version": 3
   },
   "file_extension": ".py",
   "mimetype": "text/x-python",
   "name": "python",
   "nbconvert_exporter": "python",
   "pygments_lexer": "ipython3",
   "version": "3.11.5"
  }
 },
 "nbformat": 4,
 "nbformat_minor": 5
}
